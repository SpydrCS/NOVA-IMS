{
 "cells": [
  {
   "cell_type": "markdown",
   "id": "ee77881d-841f-4676-9d6c-d60931885bdc",
   "metadata": {},
   "source": [
    "# Big Data Modelling and Management - Lab 2"
   ]
  },
  {
   "cell_type": "markdown",
   "id": "cdafcf65-d242-43ae-abc9-2b16e677fd2f",
   "metadata": {},
   "source": [
    "## Graphs and Tweets\n",
    "\n",
    "With all the setup done on the past class. This one is all about analysing data and extracting information from graphs!\n",
    "\n",
    "Checking the connection still works..."
   ]
  },
  {
   "cell_type": "markdown",
   "id": "34bf98cf-a888-45c9-86a6-39d63a26c9f5",
   "metadata": {},
   "source": [
    "## Setup\n",
    "\n",
    "**1. Be sure that you have a neo4j docker container running:**\n",
    "   \n",
    "`docker run --name Neo4JLab -p 7474:7474 -p 7687:7687 -d -v `**<span style=\"color:red\">\"c:\\Users\\osavc\\Documents\\Nova_BDMM\\_2024\\Installations\\Neo4JPlugins\"</span>** `:/plugins -v `**<span style=\"color:red\">\"c:\\Users\\osavc\\Documents\\Nova_BDMM\\_2024\\Installations\\Neo4JData/data\"</span>** `:/data --env NEO4J_AUTH=neo4j/test --env NEO4J_dbms_connector_https_advertised__address=\"localhost:7473\" --env NEO4J_dbms_connector_http_advertised__address=\"localhost:7474\" --env NEO4J_dbms_connector_bolt_advertised__address=\"localhost:7687\" --env NEO4J_dbms_security_procedures_unrestricted=\"gds.*\" --env NEO4J_dbms_security_procedures_allowlist=\"gds.*\" neo4j:4.4.5`"
   ]
  },
  {
   "cell_type": "markdown",
   "id": "f56ddbcf",
   "metadata": {},
   "source": [
    "docker run --name Neo4JLab -p 7474:7474 -p 7687:7687 -d -v \"c:\\Users\\osavc\\Documents\\Nova_BDMM\\_2024\\Installations\\Neo4JPlugins\":/plugins -v \"c:\\Users\\osavc\\Documents\\Nova_BDMM\\_2024\\Installations\\Neo4JData/data\":/data --env NEO4J_AUTH=neo4j/test --env NEO4J_dbms_connector_https_advertised__address=\"localhost:7473\" --env NEO4J_dbms_connector_http_advertised__address=\"localhost:7474\" --env NEO4J_dbms_connector_bolt_advertised__address=\"localhost:7687\" --env NEO4J_dbms_security_procedures_unrestricted=\"gds.*\" --env NEO4J_dbms_security_procedures_allowlist=\"gds.*\" neo4j:4.4.5"
   ]
  },
  {
   "cell_type": "markdown",
   "id": "b91f3e20-f552-4a22-8582-5d2e8e5be777",
   "metadata": {},
   "source": [
    "**2. We will be using the same database we used in Lab 1:**"
   ]
  },
  {
   "cell_type": "code",
   "execution_count": 1,
   "id": "87be9b8c-e7ba-4be2-b7ac-50706c9d2bfa",
   "metadata": {
    "ExecuteTime": {
     "end_time": "2024-02-25T11:09:19.963612Z",
     "start_time": "2024-02-25T11:09:17.921899Z"
    }
   },
   "outputs": [],
   "source": [
    "from neo4j import GraphDatabase\n",
    "from pprint import pprint"
   ]
  },
  {
   "cell_type": "markdown",
   "id": "60171d61-1567-49cc-aa58-f3503d076044",
   "metadata": {},
   "source": [
    "## Define a Connection to your external Database"
   ]
  },
  {
   "cell_type": "code",
   "execution_count": 2,
   "id": "70b1f792-4994-42f3-a086-e176a4fd6b37",
   "metadata": {
    "ExecuteTime": {
     "end_time": "2024-02-25T11:09:19.994728Z",
     "start_time": "2024-02-25T11:09:19.985653Z"
    }
   },
   "outputs": [],
   "source": [
    "NEO4J_URI=\"neo4j://localhost:7687\"\n",
    "NEO4J_USERNAME=\"neo4j\"\n",
    "NEO4J_PASSWORD=\"test\""
   ]
  },
  {
   "cell_type": "code",
   "execution_count": 3,
   "id": "da76d41b-fe1e-48fb-aeb3-092e5b25ba39",
   "metadata": {
    "ExecuteTime": {
     "end_time": "2024-02-25T11:09:24.471018Z",
     "start_time": "2024-02-25T11:09:24.460926Z"
    }
   },
   "outputs": [],
   "source": [
    "driver = GraphDatabase.driver(NEO4J_URI, auth=(NEO4J_USERNAME, NEO4J_PASSWORD), )"
   ]
  },
  {
   "cell_type": "markdown",
   "id": "80f68f30-8859-47a6-ae6f-3f80364b93e0",
   "metadata": {},
   "source": [
    "## All The Functions you'll need to run queries in Neo4J"
   ]
  },
  {
   "cell_type": "code",
   "execution_count": 4,
   "id": "6fb18865-c9ce-4414-9e4c-31a3ffa56062",
   "metadata": {
    "ExecuteTime": {
     "end_time": "2024-02-25T11:09:26.372880Z",
     "start_time": "2024-02-25T11:09:26.352289Z"
    }
   },
   "outputs": [],
   "source": [
    "def execute_write(driver, query):\n",
    "    with driver.session(database=\"neo4j\") as session:\n",
    "        # Write transactions allow the driver to handle retries and transient errors\n",
    "        result = session.execute_write(lambda tx, query: list(tx.run(query)), query)\n",
    "    return result"
   ]
  },
  {
   "cell_type": "code",
   "execution_count": 5,
   "id": "f29a5f9f-326a-4656-8b6b-4ef05528552d",
   "metadata": {
    "ExecuteTime": {
     "end_time": "2024-02-25T11:09:27.521779Z",
     "start_time": "2024-02-25T11:09:27.498235Z"
    }
   },
   "outputs": [],
   "source": [
    "def execute_read(driver, query):    \n",
    "    with driver.session(database=\"neo4j\") as session:\n",
    "        result = session.execute_read(lambda tx, query: list(tx.run(query)), query)\n",
    "    return result"
   ]
  },
  {
   "cell_type": "code",
   "execution_count": 6,
   "id": "101d75d1-6d99-4d70-aea0-5958159ba34e",
   "metadata": {
    "ExecuteTime": {
     "end_time": "2024-02-25T11:09:28.276840Z",
     "start_time": "2024-02-25T11:09:28.133994Z"
    }
   },
   "outputs": [
    {
     "name": "stdout",
     "output_type": "stream",
     "text": [
      "[<Record count(*)=194356>]\n"
     ]
    }
   ],
   "source": [
    "query = \"\"\"\n",
    "        MATCH () RETURN count(*)\n",
    "    \"\"\"\n",
    "\n",
    "result = execute_read(driver, query)\n",
    "\n",
    "pprint(result)"
   ]
  },
  {
   "cell_type": "markdown",
   "id": "27c309cf-324c-47c2-b3a2-876ee5b67e4e",
   "metadata": {},
   "source": [
    "## Today we will answer some questions about our database"
   ]
  },
  {
   "cell_type": "code",
   "execution_count": 7,
   "id": "50a12cc5-324d-4b4f-96c2-cb85f7cfdb7c",
   "metadata": {
    "ExecuteTime": {
     "end_time": "2024-02-25T11:09:31.636572Z",
     "start_time": "2024-02-25T11:09:31.588982Z"
    }
   },
   "outputs": [
    {
     "name": "stdout",
     "output_type": "stream",
     "text": [
      "[<Record label='User'>,\n",
      " <Record label='Location'>,\n",
      " <Record label='Tweet'>,\n",
      " <Record label='Hashtag'>]\n"
     ]
    }
   ],
   "source": [
    "query = \"\"\"\n",
    "        call db.labels;\n",
    "    \"\"\"\n",
    "\n",
    "result = execute_read(driver, query)\n",
    "\n",
    "pprint(result)"
   ]
  },
  {
   "cell_type": "code",
   "execution_count": 8,
   "id": "6575af2e-ccda-4f8a-9f48-6ef7c5829e5f",
   "metadata": {
    "ExecuteTime": {
     "end_time": "2024-02-25T11:09:32.634732Z",
     "start_time": "2024-02-25T11:09:32.206631Z"
    }
   },
   "outputs": [
    {
     "name": "stdout",
     "output_type": "stream",
     "text": [
      "[<Record labels(node)=['User']>,\n",
      " <Record labels(node)=['Location']>,\n",
      " <Record labels(node)=['Tweet']>,\n",
      " <Record labels(node)=['Hashtag']>]\n"
     ]
    }
   ],
   "source": [
    "query = \"\"\"\n",
    "        MATCH (node) \n",
    "        RETURN distinct labels(node)\n",
    "    \"\"\"\n",
    "\n",
    "result = execute_read(driver, query)\n",
    "\n",
    "pprint(result)"
   ]
  },
  {
   "cell_type": "markdown",
   "id": "17ae0851-fabc-4441-a9a6-bea725f67fef",
   "metadata": {},
   "source": [
    "### How many Hashtags does the database have?"
   ]
  },
  {
   "cell_type": "code",
   "execution_count": 9,
   "id": "854a41b0-3dbe-4b57-b4f5-44632d299376",
   "metadata": {
    "ExecuteTime": {
     "end_time": "2024-02-25T11:09:34.047138Z",
     "start_time": "2024-02-25T11:09:34.007883Z"
    }
   },
   "outputs": [
    {
     "name": "stdout",
     "output_type": "stream",
     "text": [
      "[<Record count(h)=4708>]\n"
     ]
    }
   ],
   "source": [
    "# How many nodes of Hashtag label are there?\n",
    "\n",
    "query = \"\"\"\n",
    "        MATCH (h:Hashtag)\n",
    "        RETURN count(h)\n",
    "    \"\"\"\n",
    "\n",
    "result = execute_read(driver, query)\n",
    "\n",
    "pprint(result)"
   ]
  },
  {
   "cell_type": "markdown",
   "id": "07832405-53eb-455c-85e9-aecf3d1a154c",
   "metadata": {},
   "source": [
    "### Directed Graphs\n",
    "\n",
    "As some of you know, graph relationships can have directionality and neo4j can accommodate such types as well.\n",
    "\n",
    "For example, a person tweets a tweet! Which means there are two nodes `(p:Person)` and `(t:Tweet)` which are connected through a relationship `[:TWEETED]` with a very strict direction.\n",
    "\n",
    "Obviously a Tweet cannot tweet a person!"
   ]
  },
  {
   "cell_type": "code",
   "execution_count": 10,
   "id": "476b105e-f705-4da1-9931-66616d9fdcca",
   "metadata": {
    "ExecuteTime": {
     "end_time": "2024-02-25T11:09:37.974331Z",
     "start_time": "2024-02-25T11:09:37.473350Z"
    }
   },
   "outputs": [
    {
     "name": "stdout",
     "output_type": "stream",
     "text": [
      "[<Record count(t)=158269>]\n"
     ]
    }
   ],
   "source": [
    "query = \"\"\"\n",
    "        MATCH ()-[]-(t:Tweet)\n",
    "        RETURN count(t)\n",
    "    \"\"\"\n",
    "\n",
    "result = execute_read(driver, query)\n",
    "\n",
    "pprint(result)"
   ]
  },
  {
   "cell_type": "code",
   "execution_count": 11,
   "id": "e5616aec-8263-4b7c-9d4e-432122414992",
   "metadata": {
    "ExecuteTime": {
     "end_time": "2024-02-25T11:09:43.965020Z",
     "start_time": "2024-02-25T11:09:43.817236Z"
    }
   },
   "outputs": [
    {
     "name": "stdout",
     "output_type": "stream",
     "text": [
      "[<Record count(t)=61376>]\n"
     ]
    }
   ],
   "source": [
    "query = \"\"\"\n",
    "        MATCH ()<-[]-(t:Tweet)\n",
    "        RETURN count(t)\n",
    "    \"\"\"\n",
    "\n",
    "result = execute_read(driver, query)\n",
    "\n",
    "pprint(result)"
   ]
  },
  {
   "cell_type": "markdown",
   "id": "867c23b9-5fdc-42a6-8868-4dbe5058574d",
   "metadata": {},
   "source": [
    "### Let's count relationships"
   ]
  },
  {
   "cell_type": "code",
   "execution_count": 12,
   "id": "f940cfd0-7493-4c5f-9ef3-d0449083c8aa",
   "metadata": {
    "ExecuteTime": {
     "end_time": "2024-02-25T11:09:52.516807Z",
     "start_time": "2024-02-25T11:09:52.412433Z"
    }
   },
   "outputs": [
    {
     "name": "stdout",
     "output_type": "stream",
     "text": [
      "[<Record count(r)=17135>]\n"
     ]
    }
   ],
   "source": [
    "query = \"\"\"\n",
    "        MATCH (t:Tweet)-[r]->(h:Hashtag)\n",
    "        RETURN count(r)\n",
    "    \"\"\"\n",
    "\n",
    "result = execute_read(driver, query)\n",
    "\n",
    "pprint(result)"
   ]
  },
  {
   "cell_type": "markdown",
   "id": "373eacd2-a0ff-443b-aa29-7d15893e2f98",
   "metadata": {},
   "source": [
    "### Order by Hashtag name"
   ]
  },
  {
   "cell_type": "code",
   "execution_count": 13,
   "id": "38d44282-e244-42c2-bbb0-9c1887d24e61",
   "metadata": {
    "ExecuteTime": {
     "end_time": "2024-02-25T11:09:59.299023Z",
     "start_time": "2024-02-25T11:09:59.035435Z"
    }
   },
   "outputs": [
    {
     "name": "stdout",
     "output_type": "stream",
     "text": [
      "[<Record h=<Node element_id='191469' labels=frozenset({'Hashtag'}) properties={'name': 'AlexanderVindman'}> count(r)=1>,\n",
      " <Record h=<Node element_id='192467' labels=frozenset({'Hashtag'}) properties={'name': 'AlexeiNavalny'}> count(r)=1>,\n",
      " <Record h=<Node element_id='191329' labels=frozenset({'Hashtag'}) properties={'name': 'AliVelshi'}> count(r)=1>,\n",
      " <Record h=<Node element_id='191855' labels=frozenset({'Hashtag'}) properties={'name': 'AllCaps'}> count(r)=1>,\n",
      " <Record h=<Node element_id='193721' labels=frozenset({'Hashtag'}) properties={'name': 'AllRussiansAreResponsible'}> count(r)=2>]\n"
     ]
    }
   ],
   "source": [
    "query = \"\"\"\n",
    "        MATCH (t:Tweet)-[r]->(h:Hashtag)\n",
    "        RETURN h, count(r)\n",
    "        ORDER BY h.name\n",
    "        SKIP 100\n",
    "        LIMIT 5\n",
    "    \"\"\"\n",
    "\n",
    "result = execute_read(driver, query)\n",
    "\n",
    "pprint(result)"
   ]
  },
  {
   "cell_type": "markdown",
   "id": "31239ef3-c7d9-464e-94ac-90857542b0c3",
   "metadata": {},
   "source": [
    "### Order by Hashtag count: Which is the most used Hashtag in our DB?"
   ]
  },
  {
   "cell_type": "code",
   "execution_count": 15,
   "id": "8443a004-9a09-4cc6-8079-4e985bedfa9a",
   "metadata": {
    "ExecuteTime": {
     "end_time": "2024-02-25T11:10:22.124957Z",
     "start_time": "2024-02-25T11:10:22.021809Z"
    }
   },
   "outputs": [
    {
     "name": "stdout",
     "output_type": "stream",
     "text": [
      "[<Record h=<Node element_id='189647' labels=frozenset({'Hashtag'}) properties={'name': 'Ukraine'}> count(r)=2489>,\n",
      " <Record h=<Node element_id='189670' labels=frozenset({'Hashtag'}) properties={'name': 'Russia'}> count(r)=624>,\n",
      " <Record h=<Node element_id='189652' labels=frozenset({'Hashtag'}) properties={'name': 'ukraine'}> count(r)=317>,\n",
      " <Record h=<Node element_id='189656' labels=frozenset({'Hashtag'}) properties={'name': 'UkraineRussiaWar'}> count(r)=249>,\n",
      " <Record h=<Node element_id='189701' labels=frozenset({'Hashtag'}) properties={'name': 'StandWithUkraine'}> count(r)=192>]\n"
     ]
    }
   ],
   "source": [
    "query = \"\"\"\n",
    "        MATCH (t:Tweet)-[r]->(h:Hashtag)\n",
    "        RETURN h, count(r)\n",
    "        ORDER BY count(r) DESC\n",
    "        LIMIT 5\n",
    "    \"\"\"\n",
    "\n",
    "result = execute_read(driver, query)\n",
    "\n",
    "pprint(result)"
   ]
  },
  {
   "cell_type": "markdown",
   "id": "d6566c92-8935-4bef-8dba-5bf54b8542e1",
   "metadata": {},
   "source": [
    "### Which hashtag gets used the most together with the most used (Ukraine)?"
   ]
  },
  {
   "cell_type": "code",
   "execution_count": 16,
   "id": "da82843b-0732-4fc1-b258-64c0307a28c6",
   "metadata": {
    "ExecuteTime": {
     "end_time": "2024-02-25T11:10:24.362543Z",
     "start_time": "2024-02-25T11:10:24.205346Z"
    }
   },
   "outputs": [
    {
     "name": "stdout",
     "output_type": "stream",
     "text": [
      "[<Record p=<Path start=<Node element_id='89706' labels=frozenset({'Tweet'}) properties={'date': '2022-04-21T17:47:14.000Z', 'replies': 0, 'id': '1517198289115963392', 'text': 'RT @Weinsteinlaw: Russia is using hunger as a weapon in Ukraine, which makes @WCKitchen and #ChefsForUkraine critical soldiers in the fight…', 'retweets': 51, 'lang': 'en', 'likes': 0}> end=<Node element_id='167697' labels=frozenset({'Tweet'}) properties={'date': '2022-04-21T16:30:47.000Z', 'replies': 0, 'id': '1517179048862142465', 'text': 'RT @TonyHussein4: Most Americans blame Dictator Vladimir Putin and oil companies for higher gas prices, according to an ABC News/Ipsos poll…', 'retweets': 184, 'lang': 'en', 'likes': 0}> size=2>>]\n"
     ]
    }
   ],
   "source": [
    "query = \"\"\"\n",
    "        MATCH p=()<-[]-()-[]->()\n",
    "        RETURN p\n",
    "        limit 1\n",
    "    \"\"\"\n",
    "\n",
    "result = execute_read(driver, query)\n",
    "\n",
    "pprint(result)"
   ]
  },
  {
   "cell_type": "code",
   "execution_count": 17,
   "id": "42423def-2a39-4ac1-8fc2-b47c56012c78",
   "metadata": {
    "ExecuteTime": {
     "end_time": "2024-02-25T11:10:26.984500Z",
     "start_time": "2024-02-25T11:10:26.829950Z"
    }
   },
   "outputs": [
    {
     "name": "stdout",
     "output_type": "stream",
     "text": [
      "[<Record NAMENAME='Russia' freq=554>,\n",
      " <Record NAMENAME='UkraineRussiaWar' freq=188>,\n",
      " <Record NAMENAME='Putin' freq=154>,\n",
      " <Record NAMENAME='Mariupol' freq=133>,\n",
      " <Record NAMENAME='StandWithUkraine' freq=119>,\n",
      " <Record NAMENAME='UkraineWar' freq=112>,\n",
      " <Record NAMENAME='Russian' freq=99>,\n",
      " <Record NAMENAME='Ukrainian' freq=78>,\n",
      " <Record NAMENAME='USA' freq=75>,\n",
      " <Record NAMENAME='NATO' freq=71>]\n"
     ]
    }
   ],
   "source": [
    "query = \"\"\"\n",
    "        MATCH (h1:Hashtag{name:\"Ukraine\"})<-[]-(t)-[]->(h2:Hashtag)\n",
    "        RETURN h2.name as NAMENAME, count(*) as freq\n",
    "        order by freq desc\n",
    "        limit 10\n",
    "    \"\"\"\n",
    "\n",
    "result = execute_read(driver, query)\n",
    "\n",
    "pprint(result)"
   ]
  },
  {
   "cell_type": "markdown",
   "id": "b9e83386-165f-4e1d-81b4-be6fd7c7dcc1",
   "metadata": {},
   "source": [
    "### Which users (top ten) have the most tweeted tweets?"
   ]
  },
  {
   "cell_type": "code",
   "execution_count": 18,
   "id": "249afb90-cdfc-4566-b8ca-d60aa543087f",
   "metadata": {
    "ExecuteTime": {
     "end_time": "2024-02-25T11:10:30.368711Z",
     "start_time": "2024-02-25T11:10:29.727669Z"
    }
   },
   "outputs": [
    {
     "name": "stdout",
     "output_type": "stream",
     "text": [
      "[<Record id(u)=47366 u.username='educwation' freq=88>,\n",
      " <Record id(u)=42951 u.username='tryin2dowhatsr1' freq=78>,\n",
      " <Record id(u)=9453 u.username='StopVladdyDaddy' freq=71>,\n",
      " <Record id(u)=17208 u.username='BaumannPater' freq=68>,\n",
      " <Record id(u)=737 u.username='Missy72228463' freq=68>,\n",
      " <Record id(u)=240 u.username='NatForTrump2024' freq=64>,\n",
      " <Record id(u)=38763 u.username='goribernoob' freq=60>,\n",
      " <Record id(u)=650 u.username='anna_kouadio' freq=58>,\n",
      " <Record id(u)=5908 u.username='roskirakanang' freq=57>,\n",
      " <Record id(u)=62953 u.username='2vprh32texobi' freq=57>]\n"
     ]
    }
   ],
   "source": [
    "query = \"\"\"\n",
    "        MATCH (u:User)-[]->(t:Tweet)\n",
    "        RETURN id(u), u.username, count(*) as freq\n",
    "        order by freq desc\n",
    "        limit 10\n",
    "    \"\"\" \n",
    "# id() functions retrives the unique id of the nodes\n",
    "\n",
    "result = execute_read(driver, query)\n",
    "\n",
    "pprint(result)"
   ]
  },
  {
   "cell_type": "markdown",
   "id": "bc4307d1-7da3-40be-b703-9da067dd7d2f",
   "metadata": {},
   "source": [
    "### Users (top ten) that used the most popular hashtag the most?"
   ]
  },
  {
   "cell_type": "code",
   "execution_count": 22,
   "id": "49ba4b1a-110b-4e9b-a8c4-08b8d2b47456",
   "metadata": {
    "ExecuteTime": {
     "end_time": "2024-02-25T11:10:33.084666Z",
     "start_time": "2024-02-25T11:10:32.961282Z"
    }
   },
   "outputs": [
    {
     "name": "stdout",
     "output_type": "stream",
     "text": [
      "[<Record id(u)=70112 h.name='TonerCartridges' freq=2>,\n",
      " <Record id(u)=2270 h.name='DenazifyUkraine' freq=1>,\n",
      " <Record id(u)=88055 h.name='Ukraine' freq=1>,\n",
      " <Record id(u)=89610 h.name='Ukraine' freq=1>,\n",
      " <Record id(u)=87656 h.name='Ukraine' freq=1>,\n",
      " <Record id(u)=89425 h.name='Ukraine' freq=1>,\n",
      " <Record id(u)=750 h.name='Ukraine' freq=1>,\n",
      " <Record id(u)=38037 h.name='Ukraine' freq=1>,\n",
      " <Record id(u)=3086 h.name='Ukraine' freq=1>,\n",
      " <Record id(u)=50215 h.name='DenazifyUkraine' freq=1>]\n"
     ]
    }
   ],
   "source": [
    "query = \"\"\"\n",
    "        MATCH (h:Hashtag)<-[]-(t:Tweet)<-[]-(u:User)\n",
    "        \n",
    "        RETURN id(u), h.name, count(distinct h) as freq\n",
    "        order by freq desc\n",
    "        limit 10\n",
    "    \"\"\"\n",
    "\n",
    "result = execute_read(driver, query)\n",
    "\n",
    "pprint(result)"
   ]
  },
  {
   "cell_type": "markdown",
   "id": "52d0820d-193e-43fd-a938-07b7d4efdfec",
   "metadata": {},
   "source": [
    "### What are verified users saying?\n",
    "\n",
    "    Let's check properties of User nodes"
   ]
  },
  {
   "cell_type": "code",
   "execution_count": 23,
   "id": "b2406556",
   "metadata": {
    "ExecuteTime": {
     "end_time": "2024-02-25T11:10:35.740930Z",
     "start_time": "2024-02-25T11:10:35.681290Z"
    }
   },
   "outputs": [
    {
     "name": "stdout",
     "output_type": "stream",
     "text": [
      "[<Record u=<Node element_id='1' labels=frozenset({'User'}) properties={'tweet_count': 27811, 'followers': 81971, 'following': 888, 'verified': True, 'description': 'Chair @TheDemocrats Lawyers Council and @DNC Deputy National Finance Chair. @ObamaWhiteHouse appointee. Trial Lawyer. Music & Hockey Fan. #EndGunViolence', 'profile_image_url': 'https://pbs.twimg.com/profile_images/1482073099285803016/RBcXvS4s_normal.jpg', 'id': '22879254', 'username': 'Weinsteinlaw'}>>,\n",
      " <Record u=<Node element_id='3' labels=frozenset({'User'}) properties={'tweet_count': 15034, 'followers': 254914, 'following': 693, 'verified': True, 'description': 'Founded by @chefjoseandres in 2010. Wherever there is a fight so that hungry people may eat, we will be there. #ChefsForTheWorld', 'profile_image_url': 'https://pbs.twimg.com/profile_images/1134164643147132934/yBX6dZH4_normal.jpg', 'id': '156653779', 'username': 'WCKitchen'}>>]\n"
     ]
    }
   ],
   "source": [
    "query = \"\"\"\n",
    "        MATCH (u:User)\n",
    "        WHERE u.verified=True\n",
    "        RETURN u\n",
    "        LIMIT 2\n",
    "    \"\"\"\n",
    "\n",
    "result = execute_read(driver, query)\n",
    "\n",
    "pprint(result)"
   ]
  },
  {
   "cell_type": "code",
   "execution_count": 24,
   "id": "d60e6e94-39ad-4d8d-8655-0e0e7b9a7acf",
   "metadata": {
    "ExecuteTime": {
     "end_time": "2024-02-25T11:10:36.334016Z",
     "start_time": "2024-02-25T11:10:36.265477Z"
    }
   },
   "outputs": [
    {
     "name": "stdout",
     "output_type": "stream",
     "text": [
      "[<Record u=<Node element_id='1' labels=frozenset({'User'}) properties={'tweet_count': 27811, 'followers': 81971, 'following': 888, 'verified': True, 'description': 'Chair @TheDemocrats Lawyers Council and @DNC Deputy National Finance Chair. @ObamaWhiteHouse appointee. Trial Lawyer. Music & Hockey Fan. #EndGunViolence', 'profile_image_url': 'https://pbs.twimg.com/profile_images/1482073099285803016/RBcXvS4s_normal.jpg', 'id': '22879254', 'username': 'Weinsteinlaw'}>>,\n",
      " <Record u=<Node element_id='3' labels=frozenset({'User'}) properties={'tweet_count': 15034, 'followers': 254914, 'following': 693, 'verified': True, 'description': 'Founded by @chefjoseandres in 2010. Wherever there is a fight so that hungry people may eat, we will be there. #ChefsForTheWorld', 'profile_image_url': 'https://pbs.twimg.com/profile_images/1134164643147132934/yBX6dZH4_normal.jpg', 'id': '156653779', 'username': 'WCKitchen'}>>]\n"
     ]
    }
   ],
   "source": [
    "query = \"\"\"\n",
    "        MATCH (u:User{verified:True})\n",
    "        RETURN u\n",
    "        LIMIT 2\n",
    "    \"\"\"\n",
    "\n",
    "result = execute_read(driver, query)\n",
    "\n",
    "pprint(result)"
   ]
  },
  {
   "cell_type": "code",
   "execution_count": 25,
   "id": "cb3a521c-85ce-4cf9-8589-30c73f745568",
   "metadata": {
    "ExecuteTime": {
     "end_time": "2024-02-25T11:10:36.972312Z",
     "start_time": "2024-02-25T11:10:36.780698Z"
    }
   },
   "outputs": [
    {
     "name": "stdout",
     "output_type": "stream",
     "text": [
      "[]\n"
     ]
    }
   ],
   "source": [
    "query = \"\"\"\n",
    "        MATCH (u:User)-[r:MENTIONS]->(t:Tweet)\n",
    "        WHERE u.verified=False\n",
    "        RETURN t.retweets as retweets\n",
    "        SKIP 500\n",
    "        LIMIT 5\n",
    "    \"\"\"\n",
    "\n",
    "result = execute_read(driver, query)\n",
    "\n",
    "pprint(result)"
   ]
  },
  {
   "cell_type": "markdown",
   "id": "79b37574-f09d-4bc8-ac06-6e8e7522c963",
   "metadata": {},
   "source": [
    "### What are the most commonly used hashtags by a specific user?"
   ]
  },
  {
   "cell_type": "code",
   "execution_count": 26,
   "id": "2acc05ce-9d68-4e02-82b8-67f03bfb05a6",
   "metadata": {
    "ExecuteTime": {
     "end_time": "2024-02-25T11:10:37.897237Z",
     "start_time": "2024-02-25T11:10:37.690628Z"
    }
   },
   "outputs": [
    {
     "name": "stdout",
     "output_type": "stream",
     "text": [
      "[<Record h.name='Новосибирск' freq=19>,\n",
      " <Record h.name='Екатеринбург' freq=19>,\n",
      " <Record h.name='Казань' freq=19>,\n",
      " <Record h.name='Челябинск' freq=19>,\n",
      " <Record h.name='Омск' freq=19>]\n"
     ]
    }
   ],
   "source": [
    "username = \"Elliott12345671\"\n",
    "\n",
    "query = f\"\"\"\n",
    "        MATCH (u:User)-[:TWEETED]-(t:Tweet)-[]-(h:Hashtag)\n",
    "        \n",
    "        where u.username='{username}' and t.lang='en'\n",
    "        RETURN h.name, count(*) as freq\n",
    "        order by freq desc\n",
    "        limit 5\n",
    "    \"\"\"\n",
    "\n",
    "result = execute_read(driver, query)\n",
    "\n",
    "pprint(result)"
   ]
  },
  {
   "cell_type": "markdown",
   "id": "9f9750dd-327d-4676-aa77-0295c04b82b2",
   "metadata": {},
   "source": [
    "### Who is talking about specific subject?"
   ]
  },
  {
   "cell_type": "code",
   "execution_count": 27,
   "id": "313651fd-55bb-47e5-9287-05df60dc749a",
   "metadata": {
    "ExecuteTime": {
     "end_time": "2024-02-25T11:10:40.067455Z",
     "start_time": "2024-02-25T11:10:38.557110Z"
    }
   },
   "outputs": [
    {
     "name": "stdout",
     "output_type": "stream",
     "text": [
      "[<Record u.username='JUkrainian333' t.text='RT @standwithukr_la: This mural in the heart of Los Angeles \\nEveryone welcome to see! \\nSupport Ukraine: scan QR code - save a life!\\n📍 7753…'>,\n",
      " <Record u.username='dgershwin' t.text='The latest The Los Angeles, Politics, Sports Daily! https://t.co/oBWSgIfqdd Thanks to @JHWeissmann @lizzieohreally @ChrisCillizza #ukraine #breaking'>,\n",
      " <Record u.username='NigelQuartey' t.text='The translation makes it funnier!:\\nIn Los Angeles, on the wall of one of the buildings located on Melrose Avenue, a mural in support of Ukraine appeared with the image of American actor Will Smith, who beats Putin.\\nFrom https://t.co/r1WLfmdAqG\\n#СлаваУкраїні https://t.co/Wg9df62o3D'>,\n",
      " <Record u.username='tonernews' t.text=\"IT'S THE LAW: If you Sell Chinese Toner in Los Angeles, You May be Sued and Lose Your Business!\\nhttps://t.co/tB7AZhk5Ad\\n#TonerCartridges #InkCartridges #stopthewar #Ukraine #Printing #Toner #Ink #Hp #Canon #Ricoh #Konica #Xerox #Lexmark #Closedloop #supplychain #recycling https://t.co/9QYSlLegSj\">,\n",
      " <Record u.username='CeliesSpeaks' t.text='@POTUS Potus we understand the seriousness of the attack on Ukraine and empathize with the people of Ukraine but we have AMERICANS dying on the streets of Los Angeles and all over the USA. There is a non profit organization in LA called \"Beauty2thestreetz. They need a pledge. Help us.'>]\n"
     ]
    }
   ],
   "source": [
    "subject = \"Los Angeles\"\n",
    "\n",
    "query = f\"\"\"\n",
    "        MATCH (u:User)-[]->(t:Tweet)\n",
    "        WHERE t.text contains '{subject}'\n",
    "        RETURN u.username, t.text\n",
    "        LIMIT 5\n",
    "    \"\"\"\n",
    "\n",
    "result = execute_read(driver, query)\n",
    "\n",
    "pprint(result)"
   ]
  },
  {
   "cell_type": "markdown",
   "id": "290dbbb3-f5f8-4788-b478-f6791ac2a1e9",
   "metadata": {},
   "source": [
    "#### Multiple Subjects"
   ]
  },
  {
   "cell_type": "code",
   "execution_count": 40,
   "id": "60b1d084-958f-4b34-bb1e-2441afdc65d2",
   "metadata": {
    "ExecuteTime": {
     "end_time": "2024-02-25T11:10:40.150970Z",
     "start_time": "2024-02-25T11:10:39.544Z"
    }
   },
   "outputs": [
    {
     "name": "stdout",
     "output_type": "stream",
     "text": [
      "[<Record l.name='Alabama, USA🇺🇸' t.text=\"@RT_com's account has been withheld in Portugal, Finland, Sweden, Ireland, Slovenia, Czech Republic, Poland, Slovakia, Hungary, Italy, Malta, Germany, Greece, Romania, Netherlands, Bulgaria, Austria, Luxembourg, Latvia, Denmark, Lithuania, Croatia, Estonia, Cyprus, France, Spain, Belgium in response to a legal demand. Learn more.\">,\n",
      " <Record l.name='Alabama, USA🇺🇸' t.text=\"@RT_com's account has been withheld in Portugal, Finland, Sweden, Ireland, Slovenia, Czech Republic, Poland, Slovakia, Hungary, Italy, Malta, Germany, Greece, Romania, Netherlands, Bulgaria, Austria, Luxembourg, Latvia, Denmark, Lithuania, Croatia, Estonia, Cyprus, France, Spain, Belgium in response to a legal demand. Learn more.\">,\n",
      " <Record l.name='Belgrade/Calgary' t.text=\"@RT_com's account has been withheld in Portugal, Finland, Sweden, Ireland, Slovenia, Czech Republic, Poland, Slovakia, Hungary, Italy, Malta, Germany, Greece, Romania, Netherlands, Bulgaria, Austria, Luxembourg, Latvia, Denmark, Lithuania, Croatia, Estonia, Cyprus, France, Spain, Belgium in response to a legal demand. Learn more.\">,\n",
      " <Record l.name='Bombaim, Índia' t.text=\"@RT_com's account has been withheld in Portugal, Finland, Sweden, Ireland, Slovenia, Czech Republic, Poland, Slovakia, Hungary, Italy, Malta, Germany, Greece, Romania, Netherlands, Bulgaria, Austria, Luxembourg, Latvia, Denmark, Lithuania, Croatia, Estonia, Cyprus, France, Spain, Belgium in response to a legal demand. Learn more.\">,\n",
      " <Record l.name='CAPE TOWN' t.text=\"@RT_com's account has been withheld in Portugal, Finland, Sweden, Ireland, Slovenia, Czech Republic, Poland, Slovakia, Hungary, Italy, Malta, Germany, Greece, Romania, Netherlands, Bulgaria, Austria, Luxembourg, Latvia, Denmark, Lithuania, Croatia, Estonia, Cyprus, France, Spain, Belgium in response to a legal demand. Learn more.\">]\n"
     ]
    }
   ],
   "source": [
    "subjects = ['Germany', 'France']\n",
    "\n",
    "query = f\"\"\"\n",
    "        WITH {subjects} AS words\n",
    "\n",
    "        MATCH (l:Location)<--(u:User)-[r:TWEETED|RETWEETS]->(t:Tweet)\n",
    "        \n",
    "\n",
    "        WHERE all(word IN words WHERE t.text CONTAINS word)\n",
    "\n",
    "        RETURN l.name, t.text\n",
    "        ORDER BY l.name\n",
    "        LIMIT 5\n",
    "    \"\"\"\n",
    "\n",
    "result = execute_read(driver, query)\n",
    "\n",
    "pprint(result)"
   ]
  },
  {
   "cell_type": "markdown",
   "id": "e1906e80-162c-4d77-a7b8-613a23143037",
   "metadata": {},
   "source": [
    "### Who are the people most mentioned in tweets made in the most popular place?"
   ]
  },
  {
   "cell_type": "code",
   "execution_count": 33,
   "id": "07e7f998-d169-4940-8448-e06aa48a6b7c",
   "metadata": {
    "ExecuteTime": {
     "end_time": "2024-02-25T11:10:42.485895Z",
     "start_time": "2024-02-25T11:10:41.580860Z"
    }
   },
   "outputs": [
    {
     "name": "stdout",
     "output_type": "stream",
     "text": [
      "[<Record Location='Microtitre Plates' Count=2 r1=<Relationship element_id='96503' nodes=(<Node element_id='123773' labels=frozenset() properties={}>, <Node element_id='38322' labels=frozenset() properties={}>) type='MENTIONS' properties={}> r2=<Relationship element_id='96484' nodes=(<Node element_id='28814' labels=frozenset() properties={}>, <Node element_id='123773' labels=frozenset() properties={}>) type='TWEETED' properties={}>>,\n",
      " <Record Location='United States' Count=1 r1=<Relationship element_id='198937' nodes=(<Node element_id='188566' labels=frozenset() properties={}>, <Node element_id='89333' labels=frozenset() properties={}>) type='MENTIONS' properties={}> r2=<Relationship element_id='198872' nodes=(<Node element_id='89306' labels=frozenset() properties={}>, <Node element_id='188566' labels=frozenset() properties={}>) type='TWEETED' properties={}>>,\n",
      " <Record Location='United States' Count=1 r1=<Relationship element_id='198924' nodes=(<Node element_id='188566' labels=frozenset() properties={}>, <Node element_id='89329' labels=frozenset() properties={}>) type='MENTIONS' properties={}> r2=<Relationship element_id='198872' nodes=(<Node element_id='89306' labels=frozenset() properties={}>, <Node element_id='188566' labels=frozenset() properties={}>) type='TWEETED' properties={}>>,\n",
      " <Record Location='United States' Count=1 r1=<Relationship element_id='198897' nodes=(<Node element_id='188566' labels=frozenset() properties={}>, <Node element_id='89321' labels=frozenset() properties={}>) type='MENTIONS' properties={}> r2=<Relationship element_id='198872' nodes=(<Node element_id='89306' labels=frozenset() properties={}>, <Node element_id='188566' labels=frozenset() properties={}>) type='TWEETED' properties={}>>,\n",
      " <Record Location='United States' Count=1 r1=<Relationship element_id='198953' nodes=(<Node element_id='188566' labels=frozenset() properties={}>, <Node element_id='73605' labels=frozenset() properties={}>) type='MENTIONS' properties={}> r2=<Relationship element_id='198872' nodes=(<Node element_id='89306' labels=frozenset() properties={}>, <Node element_id='188566' labels=frozenset() properties={}>) type='TWEETED' properties={}>>]\n"
     ]
    }
   ],
   "source": [
    "# Let's obtain the unique location names and their count\n",
    "\n",
    "query = f\"\"\"\n",
    "        MATCH (l:Location)<--(:User)-[r2:TWEETED]->(t:Tweet)-[r1:MENTIONS]->(u:User)\n",
    "        \n",
    "        RETURN distinct l.name as Location, count(*) as Count, r1, r2\n",
    "        \n",
    "        ORDER BY Count DESC\n",
    "        LIMIT 5\n",
    "    \"\"\"\n",
    "\n",
    "result = execute_read(driver, query)\n",
    "\n",
    "pprint(result)"
   ]
  },
  {
   "cell_type": "markdown",
   "id": "af4fc090-7129-47d3-a2bf-dcfb17500ff6",
   "metadata": {},
   "source": [
    "**Who are the people most mentioned in tweets made in Pennsylvania, the most popular place?**"
   ]
  },
  {
   "cell_type": "code",
   "execution_count": 35,
   "id": "1d869463-5800-46df-bd09-68d665d56bef",
   "metadata": {
    "ExecuteTime": {
     "end_time": "2024-02-25T11:10:44.436831Z",
     "start_time": "2024-02-25T11:10:43.056747Z"
    }
   },
   "outputs": [
    {
     "name": "stdout",
     "output_type": "stream",
     "text": [
      "[<Record u.username='Bigteethyouhave' Count=53>,\n",
      " <Record u.username='akuscg' Count=53>,\n",
      " <Record u.username='Kittie_Svengali' Count=53>,\n",
      " <Record u.username='victoria_roark' Count=53>,\n",
      " <Record u.username='ShellyRKirchoff' Count=53>]\n"
     ]
    }
   ],
   "source": [
    "query = \"\"\"\n",
    "        MATCH (l:Location{name:\"Pennsylvania\"})<--(:User)-[:TWEETED]->(t:Tweet)-[:MENTIONS]->(u:User)\n",
    "        RETURN u.username, count(*) as Count\n",
    "        ORDER BY Count DESC\n",
    "        LIMIT 5\n",
    "    \"\"\"\n",
    "\n",
    "result = execute_read(driver, query)\n",
    "\n",
    "pprint(result)"
   ]
  },
  {
   "cell_type": "markdown",
   "id": "d847e0d5-3a78-4fac-950b-bb4730b23443",
   "metadata": {},
   "source": [
    "### Which hashtags are used in the tweets with the most retweets?"
   ]
  },
  {
   "cell_type": "code",
   "execution_count": 36,
   "id": "d9101d40-1377-4567-a37c-817742f3c5bc",
   "metadata": {
    "ExecuteTime": {
     "end_time": "2024-02-25T11:10:44.506977Z",
     "start_time": "2024-02-25T11:10:44.430Z"
    }
   },
   "outputs": [
    {
     "name": "stdout",
     "output_type": "stream",
     "text": [
      "[<Record t.retweets=489 h.name='Ukraine'>,\n",
      " <Record t.retweets=489 h.name='Russian'>,\n",
      " <Record t.retweets=299 h.name='Ukraine'>,\n",
      " <Record t.retweets=299 h.name='Belarusian'>,\n",
      " <Record t.retweets=276 h.name='Ukraine'>,\n",
      " <Record t.retweets=276 h.name='Ringtausch'>,\n",
      " <Record t.retweets=191 h.name='DemVoice1'>,\n",
      " <Record t.retweets=191 h.name='ItsTimeToAdmitThat'>,\n",
      " <Record t.retweets=191 h.name='Fresh'>,\n",
      " <Record t.retweets=171 h.name='Ukraine'>]\n"
     ]
    }
   ],
   "source": [
    "query = \"\"\"\n",
    "        MATCH (u:User)-[]->(t:Tweet)-[]->(h:Hashtag)\n",
    "        RETURN t.retweets, h.name\n",
    "        ORDER BY t.retweets DESC\n",
    "        LIMIT 10\n",
    "    \"\"\"\n",
    "\n",
    "result = execute_read(driver, query)\n",
    "\n",
    "pprint(result)"
   ]
  },
  {
   "cell_type": "markdown",
   "id": "c3256a39-4739-4d7c-9e67-46ba401c3a41",
   "metadata": {},
   "source": [
    "### Top Mentioned User"
   ]
  },
  {
   "cell_type": "code",
   "execution_count": 37,
   "id": "88c0aec3-e71b-4bd2-b728-3cb5ab52c170",
   "metadata": {
    "ExecuteTime": {
     "end_time": "2024-02-25T11:10:46.319755Z",
     "start_time": "2024-02-25T11:10:46.139397Z"
    }
   },
   "outputs": [
    {
     "name": "stdout",
     "output_type": "stream",
     "text": [
      "[<Record u.username='POTUS' freq=1101>,\n",
      " <Record u.username='Ukraine' freq=369>,\n",
      " <Record u.username='SaveThe_Ukraine' freq=338>,\n",
      " <Record u.username='Bigteethyouhave' freq=338>,\n",
      " <Record u.username='ShellyRKirchoff' freq=335>]\n"
     ]
    }
   ],
   "source": [
    "query = \"\"\"\n",
    "        MATCH (:Tweet)-[:MENTIONS]->(u:User)\n",
    "        RETURN u.username, count(*) as freq\n",
    "        ORDER BY freq DESC \n",
    "        LIMIT 5\n",
    "    \"\"\"\n",
    "\n",
    "result = execute_read(driver, query)\n",
    "\n",
    "pprint(result)"
   ]
  },
  {
   "cell_type": "markdown",
   "id": "a298fb69-6134-4041-bd5f-fca6d69d71c5",
   "metadata": {},
   "source": [
    "### Most frequently co-ocurring tags"
   ]
  },
  {
   "cell_type": "code",
   "execution_count": 38,
   "id": "9913fc75-2c1a-4162-add6-7e77eadd8fa3",
   "metadata": {
    "ExecuteTime": {
     "end_time": "2024-02-25T11:10:48.502197Z",
     "start_time": "2024-02-25T11:10:47.919255Z"
    }
   },
   "outputs": [
    {
     "name": "stdout",
     "output_type": "stream",
     "text": [
      "[<Record h1.name='Russia' h2.name='Ukraine' Frequency=554>,\n",
      " <Record h1.name='Ukraine' h2.name='UkraineRussiaWar' Frequency=188>,\n",
      " <Record h1.name='Putin' h2.name='Ukraine' Frequency=154>,\n",
      " <Record h1.name='Mariupol' h2.name='Ukraine' Frequency=133>,\n",
      " <Record h1.name='StandWithUkraine' h2.name='Ukraine' Frequency=119>]\n"
     ]
    }
   ],
   "source": [
    "query = \"\"\"\n",
    "     MATCH (h1:Hashtag)-[]-(:Tweet)-[]-(h2:Hashtag)  \n",
    "     WHERE h1.name < h2.name                     \n",
    "     RETURN h1.name, h2.name, count(*) AS Frequency\n",
    "     ORDER BY Frequency DESC\n",
    "     limit 5\n",
    "    \"\"\"\n",
    "\n",
    "result = execute_read(driver, query)\n",
    "\n",
    "pprint(result)"
   ]
  },
  {
   "cell_type": "markdown",
   "id": "6e151c5f-f977-43ab-ab88-e76742c60918",
   "metadata": {},
   "source": []
  }
 ],
 "metadata": {
  "hide_input": false,
  "kernelspec": {
   "display_name": "Python 3",
   "language": "python",
   "name": "python3"
  },
  "language_info": {
   "codemirror_mode": {
    "name": "ipython",
    "version": 3
   },
   "file_extension": ".py",
   "mimetype": "text/x-python",
   "name": "python",
   "nbconvert_exporter": "python",
   "pygments_lexer": "ipython3",
   "version": "3.11.4"
  },
  "toc": {
   "base_numbering": 1,
   "nav_menu": {},
   "number_sections": true,
   "sideBar": true,
   "skip_h1_title": false,
   "title_cell": "Table of Contents",
   "title_sidebar": "Contents",
   "toc_cell": false,
   "toc_position": {},
   "toc_section_display": true,
   "toc_window_display": false
  },
  "varInspector": {
   "cols": {
    "lenName": 16,
    "lenType": 16,
    "lenVar": 40
   },
   "kernels_config": {
    "python": {
     "delete_cmd_postfix": "",
     "delete_cmd_prefix": "del ",
     "library": "var_list.py",
     "varRefreshCmd": "print(var_dic_list())"
    },
    "r": {
     "delete_cmd_postfix": ") ",
     "delete_cmd_prefix": "rm(",
     "library": "var_list.r",
     "varRefreshCmd": "cat(var_dic_list()) "
    }
   },
   "types_to_exclude": [
    "module",
    "function",
    "builtin_function_or_method",
    "instance",
    "_Feature"
   ],
   "window_display": false
  }
 },
 "nbformat": 4,
 "nbformat_minor": 5
}
