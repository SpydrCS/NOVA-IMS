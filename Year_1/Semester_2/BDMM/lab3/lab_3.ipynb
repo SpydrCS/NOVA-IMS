{
 "cells": [
  {
   "cell_type": "markdown",
   "id": "b40cd7a1-efb3-4fec-9645-94a710358df0",
   "metadata": {},
   "source": [
    "# Big Data Modelling and Management - Lab 3"
   ]
  },
  {
   "cell_type": "markdown",
   "id": "839d3d81-061f-40f2-9f40-2ccd02f64844",
   "metadata": {},
   "source": [
    "## Setup"
   ]
  },
  {
   "cell_type": "markdown",
   "id": "c31d7446",
   "metadata": {},
   "source": [
    "Prepare for the class:\n",
    "\n",
    "1. run Jupyter \n",
    "2. run Docker\n",
    "3. run the command with paths to your folders in Command Prompt\n",
    "4. open http://localhost:7474/browser/  \n",
    "5. log-in with login: neo4j, password: test\n",
    "6. start exploring the database"
   ]
  },
  {
   "cell_type": "markdown",
   "id": "95c190fb-6210-4305-a5b3-8a3bc34edf04",
   "metadata": {},
   "source": [
    "**1. Be sure that you have a neo4j docker container running:**\n",
    "    \n",
    "docker run --name Neo4JLab -p 7474:7474 -p 7687:7687 -d -v \"/home/gui-moreira/Documents/NOVA/BDMM/Installation_Guide/Neo4JPlugins\":/plugins -v \"/home/gui-moreira/Documents/NOVA/BDMM/Installation_Guide/Neo4JData/data\":/data --env NEO4J_AUTH=neo4j/test --env NEO4J_dbms_connector_https_advertised__address=\"localhost:7473\" --env NEO4J_dbms_connector_http_advertised__address=\"localhost:7474\" --env NEO4J_dbms_connector_bolt_advertised__address=\"localhost:7687\" --env NEO4J_dbms_security_procedures_unrestricted=gds.* --env NEO4J_dbms_security_procedures_allowlist=gds.* neo4j:latest"
   ]
  },
  {
   "cell_type": "markdown",
   "id": "d08e9fa3",
   "metadata": {},
   "source": [
    "docker run --name Neo4JLab2 -p 7474:7474 -p 7687:7687 -d -v \"/home/gui-moreira/Documents/NOVA/BDMM/Installation_Guide/Neo4JPlugins\":/plugins -v \"/home/gui-moreira/Documents/NOVA/BDMM/Installation_Guide/Neo4JData/data\":/data --env NEO4J_AUTH=neo4j/test --env NEO4J_dbms_connector_https_advertised__address=\"localhost:7473\" --env NEO4J_dbms_connector_http_advertised__address=\"localhost:7474\" --env NEO4J_dbms_connector_bolt_advertised__address=\"localhost:7687\" --env NEO4J_dbms_security_procedures_unrestricted=\"gds.*\" --env NEO4J_dbms_security_procedures_allowlist=\"gds.*\" neo4j:4.4.5"
   ]
  },
  {
   "cell_type": "markdown",
   "id": "39f7b3db-acc2-48bc-ac1a-57147982eb6c",
   "metadata": {},
   "source": [
    "**2. We will be using the same database we used in Lab 1:**"
   ]
  },
  {
   "cell_type": "markdown",
   "id": "485eb235-b3bf-4314-bac1-ea31cfba10b8",
   "metadata": {},
   "source": [
    "## Graph Data Science (GDS) Algorithms\n",
    "\n",
    "The Neo4j Graph Data Science (GDS) library contains many graph algorithms. The algorithms are divided into categories which represent different problem classes. Please refer to the [documentation](https://neo4j.com/docs/graph-data-science/current/algorithms/) for further details."
   ]
  },
  {
   "cell_type": "code",
   "execution_count": 2,
   "id": "369a849e-88ce-468a-9192-bba92dc26c90",
   "metadata": {
    "ExecuteTime": {
     "end_time": "2024-03-03T14:45:25.992217Z",
     "start_time": "2024-03-03T14:45:24.289517Z"
    }
   },
   "outputs": [],
   "source": [
    "from neo4j import GraphDatabase\n",
    "from pprint import pprint"
   ]
  },
  {
   "cell_type": "code",
   "execution_count": 3,
   "id": "61092f93-b9c6-4169-af97-c169a676de4c",
   "metadata": {
    "ExecuteTime": {
     "end_time": "2024-03-03T14:45:26.587160Z",
     "start_time": "2024-03-03T14:45:26.582341Z"
    }
   },
   "outputs": [],
   "source": [
    "NEO4J_URI=\"neo4j://localhost:7687\"\n",
    "NEO4J_USERNAME=\"neo4j\"\n",
    "NEO4J_PASSWORD=\"test\""
   ]
  },
  {
   "cell_type": "code",
   "execution_count": 4,
   "id": "7e9f54e3-84c8-44cc-b6c1-e5cb295b9a4e",
   "metadata": {
    "ExecuteTime": {
     "end_time": "2024-03-03T14:45:27.613804Z",
     "start_time": "2024-03-03T14:45:27.599010Z"
    }
   },
   "outputs": [],
   "source": [
    "driver = GraphDatabase.driver(NEO4J_URI, auth=(NEO4J_USERNAME, NEO4J_PASSWORD), )"
   ]
  },
  {
   "cell_type": "markdown",
   "id": "767869f0-3932-4e72-a210-1be7eb533416",
   "metadata": {},
   "source": [
    "### All The Functions you'll need to run queries in Neo4J"
   ]
  },
  {
   "cell_type": "code",
   "execution_count": 5,
   "id": "fba2048b-a4ed-426c-be18-d1476fed11e9",
   "metadata": {
    "ExecuteTime": {
     "end_time": "2024-03-03T14:45:31.525742Z",
     "start_time": "2024-03-03T14:45:31.508271Z"
    }
   },
   "outputs": [],
   "source": [
    "def execute_write(driver, query):\n",
    "    with driver.session(database=\"neo4j\") as session:\n",
    "        # Write transactions allow the driver to handle retries and transient errors\n",
    "        result = session.execute_write(lambda tx, query: list(tx.run(query)), query)\n",
    "    return result"
   ]
  },
  {
   "cell_type": "code",
   "execution_count": 6,
   "id": "219eae26-e135-4a81-934d-2f22ab7633d7",
   "metadata": {
    "ExecuteTime": {
     "end_time": "2024-03-03T14:45:32.279989Z",
     "start_time": "2024-03-03T14:45:32.266339Z"
    }
   },
   "outputs": [],
   "source": [
    "def execute_read(driver, query):    \n",
    "    with driver.session(database=\"neo4j\") as session:\n",
    "        result = session.execute_read(lambda tx, query: list(tx.run(query)), query)\n",
    "    return result"
   ]
  },
  {
   "cell_type": "markdown",
   "id": "ce54326f-526c-48ba-b9a1-9eebb07becd0",
   "metadata": {},
   "source": [
    "## Centrality Algorithms\n",
    "\n",
    "Centrality algorithms are used to determine the importance of distinct nodes in a network. As an example you can use the [pagerank algorithm](https://neo4j.com/docs/graph-data-science/current/algorithms/page-rank/).\n",
    "\n",
    "### PageRank\n",
    "\n",
    "The PageRank algorithm measures the importance of each node within the graph, based on the number incoming relationships and the importance of the corresponding source nodes. The underlying assumption roughly speaking is that a page is only as important as the pages that link to it.\n"
   ]
  },
  {
   "cell_type": "markdown",
   "id": "da70881c",
   "metadata": {},
   "source": [
    "![pagerank.png](img/pagerank.png)"
   ]
  },
  {
   "cell_type": "markdown",
   "id": "c31a0410",
   "metadata": {},
   "source": [
    "\n",
    "\n",
    "#### Example: Which user is the most influential when it comes to the tweets made that mention other users? You can use any of the numeric properties of the tweets as the weight."
   ]
  },
  {
   "cell_type": "code",
   "execution_count": 7,
   "id": "93bd3272-fdab-4be6-8c6b-a923a2840c74",
   "metadata": {
    "ExecuteTime": {
     "end_time": "2024-03-03T14:47:21.513733Z",
     "start_time": "2024-03-03T14:47:21.478026Z"
    }
   },
   "outputs": [
    {
     "name": "stdout",
     "output_type": "stream",
     "text": [
      "ClientError('Failed to invoke procedure `gds.graph.drop`: Caused by: java.util.NoSuchElementException: Graph with name `example_1` does not exist on database `neo4j`. It might exist on another database.')\n"
     ]
    }
   ],
   "source": [
    "# Step 0 - Clear graph, graph names need to be unique\n",
    "\n",
    "try:\n",
    "    query = \"\"\"\n",
    "            CALL gds.graph.drop('example_1') YIELD graphName;\n",
    "        \"\"\"\n",
    "\n",
    "    result = execute_read(driver, query)\n",
    "\n",
    "    pprint(result)\n",
    "except Exception as e:\n",
    "    pprint(e)"
   ]
  },
  {
   "cell_type": "code",
   "execution_count": 8,
   "id": "31daaa37-d06f-432d-a328-06cb80519ff2",
   "metadata": {
    "ExecuteTime": {
     "end_time": "2024-03-03T14:47:25.351163Z",
     "start_time": "2024-03-03T14:47:24.910123Z"
    }
   },
   "outputs": [
    {
     "name": "stdout",
     "output_type": "stream",
     "text": [
      "ClientError('Failed to invoke procedure `gds.graph.project.cypher`: Caused by: java.lang.IllegalArgumentException: Node-Query returned no nodes')\n"
     ]
    }
   ],
   "source": [
    "# Step 1 - Create an appropriate graph (a subgraph)\n",
    "\n",
    "try:\n",
    "    query = \"\"\"\n",
    "        CALL gds.graph.project.cypher(\n",
    "            'example_1',\n",
    "            \n",
    "            'match (n:User) return id(n) AS id',\n",
    "            \n",
    "            'MATCH (u1:User)-[]->(t:Tweet)-[]->(u2:User) \n",
    "            RETURN id(u1) AS source, t.replies as weight, id(u2) AS target'\n",
    "            )\n",
    "      \"\"\"\n",
    "    result = execute_read(driver, query)\n",
    "    pprint(result)\n",
    "except Exception as e:\n",
    "    pprint(e)\n",
    "    \n",
    "#     First we find all the nodes of type User, and return only id values. Use limit while checking!\n",
    "#     Second we look up the nodes and their relationships"
   ]
  },
  {
   "cell_type": "code",
   "execution_count": 33,
   "id": "9e73bb45",
   "metadata": {
    "ExecuteTime": {
     "end_time": "2024-03-03T14:47:28.404151Z",
     "start_time": "2024-03-03T14:47:28.375192Z"
    }
   },
   "outputs": [
    {
     "name": "stdout",
     "output_type": "stream",
     "text": [
      "[<Record id=0>, <Record id=1>, <Record id=3>, <Record id=5>, <Record id=6>]\n"
     ]
    }
   ],
   "source": [
    "# Step 1 - part 1\n",
    "try:\n",
    "    query = \"\"\"\n",
    "            MATCH (n:User) \n",
    "            RETURN id(n) AS id\n",
    "            LIMIT 5     \n",
    "        \"\"\"\n",
    "    result = execute_read(driver, query)\n",
    "    pprint(result)\n",
    "except Exception as e:\n",
    "    pprint(e)"
   ]
  },
  {
   "cell_type": "code",
   "execution_count": 34,
   "id": "10225dc8",
   "metadata": {
    "ExecuteTime": {
     "end_time": "2024-03-03T14:47:31.363348Z",
     "start_time": "2024-03-03T14:47:31.206150Z"
    }
   },
   "outputs": [
    {
     "name": "stdout",
     "output_type": "stream",
     "text": [
      "[<Record source=59399 weight=0 target=3>,\n",
      " <Record source=48209 weight=1 target=3>,\n",
      " <Record source=65770 weight=12 target=3>,\n",
      " <Record source=39143 weight=3 target=3>,\n",
      " <Record source=17674 weight=7 target=3>,\n",
      " <Record source=12599 weight=0 target=6>,\n",
      " <Record source=12599 weight=2 target=6>,\n",
      " <Record source=12599 weight=0 target=6>,\n",
      " <Record source=12599 weight=0 target=6>,\n",
      " <Record source=9965 weight=0 target=6>,\n",
      " <Record source=81379 weight=0 target=8>,\n",
      " <Record source=79896 weight=0 target=8>,\n",
      " <Record source=36197 weight=7 target=8>,\n",
      " <Record source=74055 weight=1 target=8>,\n",
      " <Record source=21559 weight=8 target=8>]\n"
     ]
    }
   ],
   "source": [
    "# Step 1 - part 2\n",
    "try:\n",
    "    query = \"\"\"\n",
    "            MATCH (u1:User)-[:TWEETED]->(t:Tweet)-[:MENTIONS]->(u2:User) \n",
    "            RETURN id(u1) AS source, t.replies as weight, id(u2) AS target\n",
    "            LIMIT 15\n",
    "        \"\"\"\n",
    "\n",
    "    result = execute_read(driver, query)\n",
    "\n",
    "    pprint(result)\n",
    "except Exception as e:\n",
    "    pprint(e)"
   ]
  },
  {
   "cell_type": "code",
   "execution_count": 35,
   "id": "41573774-67e8-4f71-9b4d-21bbc6ec333c",
   "metadata": {
    "ExecuteTime": {
     "end_time": "2024-03-03T14:47:35.981573Z",
     "start_time": "2024-03-03T14:47:34.125232Z"
    }
   },
   "outputs": [
    {
     "name": "stdout",
     "output_type": "stream",
     "text": [
      "[<Record name='POTUS' score=27.12628728998999>,\n",
      " <Record name='TiloJung' score=14.689286591434579>,\n",
      " <Record name='Afelia' score=12.760064006336288>,\n",
      " <Record name='elonmusk' score=8.584080794800359>,\n",
      " <Record name='Johann_v_d_Bron' score=6.748710790285419>]\n"
     ]
    }
   ],
   "source": [
    "# Step 2 - Run the algorithm\n",
    "\n",
    "try:\n",
    "    query = \"\"\"\n",
    "        CALL gds.pageRank.stream('example_1', {relationshipWeightProperty:'weight'})\n",
    "            \n",
    "            YIELD nodeId, score\n",
    "            \n",
    "            RETURN gds.util.asNode(nodeId).username AS name, score\n",
    "            \n",
    "            ORDER BY score desc\n",
    "            LIMIT 5\n",
    "        \"\"\"\n",
    "    result = execute_read(driver, query)\n",
    "    pprint(result)\n",
    "except Exception as e:\n",
    "    pprint(e)\n",
    "    \n",
    "# yield: In the stream execution mode, the algorithm returns the score for each node. \n",
    "# This allows us to inspect the results directly or post-process them in Cypher without any side effects.    \n",
    "# return: retrieves username based on node ID, and the calculated score"
   ]
  },
  {
   "cell_type": "markdown",
   "id": "d428c10e-febf-4415-998a-2cbf223ce986",
   "metadata": {},
   "source": [
    "## Community detection Algorithms\n",
    "\n",
    "Community detection algorithms are used to evaluate how groups of nodes are clustered or partitioned, as well as their tendency to strengthen or break apart. As an example you can use the [Label Propagation algorithm](https://neo4j.com/docs/graph-data-science/current/algorithms/label-propagation/).\n",
    "\n",
    "![community.png](img/community.png)\n",
    "\n",
    "### Label Propagation algorithm\n",
    "\n",
    "The Label Propagation algorithm (LPA) is a fast algorithm for finding communities in a graph. It detects these communities using network structure alone as its guide, and doesn’t require a pre-defined objective function or prior information about the communities.\n",
    "\n",
    "#### Example: When considering that users mention other users in their tweets, how many communities are formed from these relationships? How many users has the biggest community?"
   ]
  },
  {
   "cell_type": "code",
   "execution_count": 36,
   "id": "44850faf-ac3b-4e1e-906d-2ee5e8c6e30c",
   "metadata": {
    "ExecuteTime": {
     "end_time": "2024-03-03T14:50:14.373425Z",
     "start_time": "2024-03-03T14:50:14.341911Z"
    }
   },
   "outputs": [
    {
     "name": "stdout",
     "output_type": "stream",
     "text": [
      "ClientError('Failed to invoke procedure `gds.graph.drop`: Caused by: java.util.NoSuchElementException: Graph with name `example_2` does not exist on database `neo4j`. It might exist on another database.')\n"
     ]
    }
   ],
   "source": [
    "# Step 0 - Clear graph, graph names need to be unique\n",
    "\n",
    "try:\n",
    "    query = \"\"\"\n",
    "            CALL gds.graph.drop('example_2') YIELD graphName;\n",
    "        \"\"\"\n",
    "\n",
    "    result = execute_read(driver, query)\n",
    "\n",
    "    pprint(result)\n",
    "except Exception as e:\n",
    "    pprint(e)"
   ]
  },
  {
   "cell_type": "code",
   "execution_count": 37,
   "id": "369b00e8-8e8e-4eba-a45a-69b99b08c305",
   "metadata": {
    "ExecuteTime": {
     "end_time": "2024-03-03T14:50:15.562780Z",
     "start_time": "2024-03-03T14:50:15.062446Z"
    }
   },
   "outputs": [
    {
     "name": "stdout",
     "output_type": "stream",
     "text": [
      "[<Record nodeQuery='MATCH (n:User) RETURN id(n) AS id' relationshipQuery='MATCH (u1:User)-[]->(l:Tweet)-[]->(u2:User) \\n            \\n            RETURN id(u1) AS source, id(u2) AS target' graphName='example_2' nodeCount=69974 relationshipCount=44241 projectMillis=347>]\n"
     ]
    }
   ],
   "source": [
    "# Step 1 - Create an appropriate graph\n",
    "\n",
    "try:\n",
    "    query = \"\"\"\n",
    "        CALL gds.graph.project.cypher(\n",
    "        \n",
    "            'example_2',\n",
    "            \n",
    "            'MATCH (n:User) RETURN id(n) AS id',\n",
    "            \n",
    "            'MATCH (u1:User)-[]->(l:Tweet)-[]->(u2:User) \n",
    "            \n",
    "            RETURN id(u1) AS source, id(u2) AS target'\n",
    "            )\n",
    "        \"\"\"\n",
    "\n",
    "    result = execute_read(driver, query)\n",
    "\n",
    "    pprint(result)\n",
    "except Exception as e:\n",
    "    pprint(e)"
   ]
  },
  {
   "cell_type": "code",
   "execution_count": 38,
   "id": "97f7de65-5a5e-400c-b995-5e4da626ae7b",
   "metadata": {
    "ExecuteTime": {
     "end_time": "2024-03-03T14:50:21.309536Z",
     "start_time": "2024-03-03T14:50:21.019230Z"
    }
   },
   "outputs": [
    {
     "name": "stdout",
     "output_type": "stream",
     "text": [
      "[<Record communityCount=60543 ranIterations=4 didConverge=True>]\n"
     ]
    }
   ],
   "source": [
    "# Step 2 - Check if the algorithm stats\n",
    "\n",
    "try:\n",
    "    query = \"\"\"\n",
    "            CALL gds.labelPropagation.stats(\n",
    "                'example_2')\n",
    "            YIELD communityCount, ranIterations, didConverge\n",
    "        \"\"\"\n",
    "\n",
    "    result = execute_read(driver, query)\n",
    "\n",
    "    pprint(result)\n",
    "except Exception as e:\n",
    "    pprint(e)\n",
    "    \n",
    "#     In the stats execution mode, the algorithm returns a single row containing a summary of the algorithm result. \n",
    "# This execution mode does not have any side effects. \n",
    "# It can be useful for evaluating algorithm performance by inspecting the computeMillis return item. "
   ]
  },
  {
   "cell_type": "code",
   "execution_count": 39,
   "id": "059550b0-48d7-46a2-bf66-30c5c3abc879",
   "metadata": {
    "ExecuteTime": {
     "end_time": "2024-03-03T14:50:23.912500Z",
     "start_time": "2024-03-03T14:50:22.621096Z"
    }
   },
   "outputs": [
    {
     "name": "stdout",
     "output_type": "stream",
     "text": [
      "[<Record Community=25 freq=930>,\n",
      " <Record Community=39 freq=267>,\n",
      " <Record Community=1484 freq=199>,\n",
      " <Record Community=74 freq=139>,\n",
      " <Record Community=937 freq=126>]\n"
     ]
    }
   ],
   "source": [
    "# Step 3 - Run the algorithm\n",
    "\n",
    "try:\n",
    "    query = \"\"\"\n",
    "            CALL gds.labelPropagation.stream('example_2')\n",
    "            YIELD nodeId, communityId AS Community\n",
    "            \n",
    "            WITH gds.util.asNode(nodeId).username AS Name, Community\n",
    "            RETURN Community, count(*) as freq\n",
    "            ORDER BY freq desc\n",
    "            limit 5\n",
    "        \"\"\"\n",
    "\n",
    "    result = execute_read(driver, query)\n",
    "\n",
    "    pprint(result)\n",
    "except Exception as e:\n",
    "    pprint(e)"
   ]
  },
  {
   "cell_type": "code",
   "execution_count": 40,
   "id": "3b3672ba-4c89-4203-817e-84c1cbbc1201",
   "metadata": {
    "ExecuteTime": {
     "end_time": "2024-03-03T14:50:42.034721Z",
     "start_time": "2024-03-03T14:50:41.887719Z"
    },
    "scrolled": true
   },
   "outputs": [
    {
     "name": "stdout",
     "output_type": "stream",
     "text": [
      "[<Record Name='Denys_Shmyhal'>,\n",
      " <Record Name='POTUS'>,\n",
      " <Record Name='CleanCarbonNrg'>,\n",
      " <Record Name='TGinja8'>,\n",
      " <Record Name='SecYellen'>,\n",
      " <Record Name='MoonlightNfts'>,\n",
      " <Record Name='Safi_awan'>,\n",
      " <Record Name='j_yeo1'>,\n",
      " <Record Name='donnyfarmshop'>,\n",
      " <Record Name='KikiGPatriot'>,\n",
      " <Record Name='CarnegieEndow'>,\n",
      " <Record Name='AdultVietson'>,\n",
      " <Record Name='Hopeful11212715'>,\n",
      " <Record Name='JohnBirdsall15'>,\n",
      " <Record Name='Diplomacy140'>,\n",
      " <Record Name='xavierkress'>,\n",
      " <Record Name='361_3933'>,\n",
      " <Record Name='Sunnyand74'>,\n",
      " <Record Name='norsedog'>,\n",
      " <Record Name='USTreasury'>]\n"
     ]
    }
   ],
   "source": [
    "# Step 4 - Who belongs to the community?\n",
    "\n",
    "try:\n",
    "    query = \"\"\"\n",
    "            CALL gds.labelPropagation.stream('example_2')\n",
    "            YIELD nodeId, communityId AS Community\n",
    "            \n",
    "            WITH gds.util.asNode(nodeId).username AS Name, Community\n",
    "            WHERE Community = 25\n",
    "            RETURN Name\n",
    "            LIMIT 20\n",
    "        \"\"\"\n",
    "\n",
    "    result = execute_read(driver, query)\n",
    "\n",
    "    pprint(result)\n",
    "except Exception as e:\n",
    "    pprint(e)"
   ]
  },
  {
   "cell_type": "markdown",
   "id": "fc6de048-05c6-48fe-b8a2-f78b375c7730",
   "metadata": {},
   "source": [
    "## Similarity Algorithms\n",
    "\n",
    "Similarity algorithms compute the similarity of pairs of nodes based on their neighborhoods or their properties. Several similarity metrics can be used to compute a similarity score. As an example you can use the [Node Similarity algorithm](https://neo4j.com/docs/graph-data-science/current/algorithms/node-similarity/).\n",
    "\n",
    "![similarity.png](img/similarity.png)\n",
    "\n",
    "### Node Similarity algorithm\n",
    "\n",
    "The Node Similarity algorithm compares a set of nodes based on the nodes they are connected to. Two nodes are considered similar if they share many of the same neighbors. Node Similarity computes pair-wise similarities based on either the Jaccard metric, also known as the Jaccard Similarity Score, or the Overlap coefficient, also known as the Szymkiewicz–Simpson coefficient.\n",
    "\n",
    "#### Example: What are the most similar users in terms of hashtags? Disregard Users with Less than 6 Hashtags used."
   ]
  },
  {
   "cell_type": "code",
   "execution_count": 41,
   "id": "47382a7a-ddc5-4300-a4e8-21cc08b3d5ad",
   "metadata": {
    "ExecuteTime": {
     "end_time": "2023-02-28T02:03:44.111866Z",
     "start_time": "2023-02-28T02:03:44.098908Z"
    }
   },
   "outputs": [
    {
     "name": "stdout",
     "output_type": "stream",
     "text": [
      "ClientError('Failed to invoke procedure `gds.graph.drop`: Caused by: java.util.NoSuchElementException: Graph with name `example_3` does not exist on database `neo4j`. It might exist on another database.')\n"
     ]
    }
   ],
   "source": [
    "# Step 0 - Clear graph\n",
    "\n",
    "try:\n",
    "    query = \"\"\"CALL gds.graph.drop('example_3') YIELD graphName;  \"\"\"\n",
    "    result = execute_read(driver, query)\n",
    "    pprint(result)\n",
    "except Exception as e:\n",
    "    pprint(e)"
   ]
  },
  {
   "cell_type": "code",
   "execution_count": 42,
   "id": "3768e43f-8305-4f26-82b9-5fdd836cc7f9",
   "metadata": {
    "ExecuteTime": {
     "end_time": "2024-03-03T14:51:32.278776Z",
     "start_time": "2024-03-03T14:51:01.794094Z"
    }
   },
   "outputs": [
    {
     "name": "stdout",
     "output_type": "stream",
     "text": [
      "[<Record nodeQuery=\"MATCH (n) \\n            WHERE head(Labels(n))='User' or head(Labels(n))='Hashtag' \\n            RETURN id(n) AS id\" relationshipQuery='MATCH (u1:User)-[]->(tw:Tweet)-[]->(t:Hashtag) \\n            \\n                with u1, count(distinct t.name) as freq\\n                where freq > 6\\n                \\n                MATCH (u2:User)-[]->(tw2:Tweet)-[]->(t2:Hashtag) \\n                with collect(distinct id(u1)) as old, u2, t2\\n                where any(x IN old WHERE x = id(u2) )\\n                return id(u2) AS source, id(t2) AS target' graphName='example_3' nodeCount=74682 relationshipCount=5095 projectMillis=33530>]\n"
     ]
    }
   ],
   "source": [
    "# Step 1 - Create an appropriate graph\n",
    "\n",
    "try:\n",
    "    query = \"\"\"\n",
    "        CALL gds.graph.project.cypher(\n",
    "            'example_3',\n",
    "            \n",
    "            \"MATCH (n) \n",
    "            WHERE head(Labels(n))='User' or head(Labels(n))='Hashtag' \n",
    "            RETURN id(n) AS id\",\n",
    "            \n",
    "            \"MATCH (u1:User)-[]->(tw:Tweet)-[]->(t:Hashtag) \n",
    "            \n",
    "                with u1, count(distinct t.name) as freq\n",
    "                where freq > 6\n",
    "                \n",
    "                MATCH (u2:User)-[]->(tw2:Tweet)-[]->(t2:Hashtag) \n",
    "                with collect(distinct id(u1)) as old, u2, t2\n",
    "                where any(x IN old WHERE x = id(u2) )\n",
    "                return id(u2) AS source, id(t2) AS target\"\n",
    "            )\n",
    "        \"\"\"\n",
    "    result = execute_read(driver, query)\n",
    "    pprint(result)\n",
    "except Exception as e:\n",
    "    pprint(e)"
   ]
  },
  {
   "cell_type": "code",
   "execution_count": 43,
   "id": "a024d96d",
   "metadata": {
    "ExecuteTime": {
     "end_time": "2024-03-03T14:51:37.567444Z",
     "start_time": "2024-03-03T14:51:37.508048Z"
    }
   },
   "outputs": [
    {
     "name": "stdout",
     "output_type": "stream",
     "text": [
      "[<Record id=0>,\n",
      " <Record id=1>,\n",
      " <Record id=3>,\n",
      " <Record id=5>,\n",
      " <Record id=6>,\n",
      " <Record id=8>,\n",
      " <Record id=10>,\n",
      " <Record id=12>,\n",
      " <Record id=13>,\n",
      " <Record id=15>,\n",
      " <Record id=17>,\n",
      " <Record id=19>,\n",
      " <Record id=21>,\n",
      " <Record id=23>,\n",
      " <Record id=25>,\n",
      " <Record id=26>,\n",
      " <Record id=28>,\n",
      " <Record id=29>,\n",
      " <Record id=31>,\n",
      " <Record id=32>]\n"
     ]
    }
   ],
   "source": [
    "# Step 1.1 - Create an appropriate graph\n",
    "try:\n",
    "    query = \"\"\"\n",
    "            MATCH (n) \n",
    "            WHERE head(Labels(n))='User' or head(Labels(n))='Hashtag' \n",
    "            RETURN id(n) AS id\n",
    "            LIMIT 20\n",
    "        \"\"\"\n",
    "    result = execute_read(driver, query)\n",
    "    pprint(result)\n",
    "except Exception as e:\n",
    "    pprint(e)\n",
    "#     RETURN distinct Labels (n) - to check"
   ]
  },
  {
   "cell_type": "code",
   "execution_count": 44,
   "id": "0e9959ed",
   "metadata": {
    "ExecuteTime": {
     "end_time": "2024-03-03T14:52:12.713437Z",
     "start_time": "2024-03-03T14:51:43.057456Z"
    },
    "scrolled": true
   },
   "outputs": [
    {
     "name": "stdout",
     "output_type": "stream",
     "text": [
      "[<Record source=28619 target=189646>,\n",
      " <Record source=50215 target=189646>,\n",
      " <Record source=2270 target=189646>,\n",
      " <Record source=3086 target=189647>,\n",
      " <Record source=73976 target=189647>,\n",
      " <Record source=82055 target=189647>,\n",
      " <Record source=26145 target=189647>,\n",
      " <Record source=89436 target=189647>,\n",
      " <Record source=85006 target=189647>,\n",
      " <Record source=1078 target=189647>]\n"
     ]
    }
   ],
   "source": [
    "# Step 1.2 A - Create an appropriate graph\n",
    "try:\n",
    "    query = \"\"\"\n",
    "                MATCH (u1:User)-[]->(tw:Tweet)-[]->(t:Hashtag) \n",
    "                WITH u1, count(distinct t.name) as freq\n",
    "                WHERE freq > 6\n",
    "                \n",
    "                MATCH (u2:User)-[]->(tw2:Tweet)-[]->(t2:Hashtag) \n",
    "                \n",
    "                WITH collect(distinct id(u1)) as old, u2, t2\n",
    "                WHERE any( x IN old WHERE x = id(u2) )\n",
    "                RETURN id(u2) AS source, id(t2) AS target\n",
    "                LIMIT 10\n",
    "        \"\"\"\n",
    "    result = execute_read(driver, query)\n",
    "    pprint(result)\n",
    "except Exception as e:\n",
    "    pprint(e)"
   ]
  },
  {
   "cell_type": "code",
   "execution_count": 45,
   "id": "db2377b4",
   "metadata": {
    "ExecuteTime": {
     "end_time": "2024-03-03T14:52:52.836795Z",
     "start_time": "2024-03-03T14:52:19.775925Z"
    }
   },
   "outputs": [
    {
     "name": "stdout",
     "output_type": "stream",
     "text": [
      "[<Record source=<Node element_id='28619' labels=frozenset({'User'}) properties={'tweet_count': 1191, 'followers': 15, 'following': 149, 'verified': False, 'description': \"Pas besoin de raconter ce que vivent les ukrainiens, nos médias le font H24, a nous de partager ce qu'ils nous cachent pour mieux comprendre. Une pièce a 2faces\", 'profile_image_url': 'https://pbs.twimg.com/profile_images/1407789719686201364/ulW-ovfh_normal.jpg', 'id': '1319331133608308736', 'username': 'VertRed'}> target=<Node element_id='189646' labels=frozenset({'Hashtag'}) properties={'name': 'DenazifyUkraine'}> g=<Relationship element_id='167583' nodes=(<Node element_id='28619' labels=frozenset({'User'}) properties={'tweet_count': 1191, 'followers': 15, 'following': 149, 'verified': False, 'description': \"Pas besoin de raconter ce que vivent les ukrainiens, nos médias le font H24, a nous de partager ce qu'ils nous cachent pour mieux comprendre. Une pièce a 2faces\", 'profile_image_url': 'https://pbs.twimg.com/profile_images/1407789719686201364/ulW-ovfh_normal.jpg', 'id': '1319331133608308736', 'username': 'VertRed'}>, <Node element_id='168400' labels=frozenset({'Tweet'}) properties={'date': '2022-04-21T16:28:40.000Z', 'replies': 0, 'id': '1517178516248436737', 'text': \"Beaucoup de soldats dans l'armée ukrainienne ne veulent pas se battre et contre Zelensky, Azov Nazi, transmettent des infos aux russes, \\n#UkraineRussianWar #UkraineInvasion #UkraineUnderAttack #UkraineWar #RussianArmy #Ukraine #DenazifyUkraine #UkraineNazis #UkraineDefendsTheWord https://t.co/UyrnSDwLv9\", 'retweets': 0, 'lang': 'fr', 'likes': 1}>) type='TWEETED' properties={}> b=<Relationship element_id='167758' nodes=(<Node element_id='168400' labels=frozenset({'Tweet'}) properties={'date': '2022-04-21T16:28:40.000Z', 'replies': 0, 'id': '1517178516248436737', 'text': \"Beaucoup de soldats dans l'armée ukrainienne ne veulent pas se battre et contre Zelensky, Azov Nazi, transmettent des infos aux russes, \\n#UkraineRussianWar #UkraineInvasion #UkraineUnderAttack #UkraineWar #RussianArmy #Ukraine #DenazifyUkraine #UkraineNazis #UkraineDefendsTheWord https://t.co/UyrnSDwLv9\", 'retweets': 0, 'lang': 'fr', 'likes': 1}>, <Node element_id='189646' labels=frozenset({'Hashtag'}) properties={'name': 'DenazifyUkraine'}>) type='MENTIONS_HASHTAG' properties={}> tw2=<Node element_id='168400' labels=frozenset({'Tweet'}) properties={'date': '2022-04-21T16:28:40.000Z', 'replies': 0, 'id': '1517178516248436737', 'text': \"Beaucoup de soldats dans l'armée ukrainienne ne veulent pas se battre et contre Zelensky, Azov Nazi, transmettent des infos aux russes, \\n#UkraineRussianWar #UkraineInvasion #UkraineUnderAttack #UkraineWar #RussianArmy #Ukraine #DenazifyUkraine #UkraineNazis #UkraineDefendsTheWord https://t.co/UyrnSDwLv9\", 'retweets': 0, 'lang': 'fr', 'likes': 1}>>,\n",
      " <Record source=<Node element_id='50215' labels=frozenset({'User'}) properties={'tweet_count': 78517, 'followers': 2642, 'following': 4948, 'verified': False, 'description': 'A powerful new conservative movement is emerging all over the world.Please share, vote & be part of it! My instagram acct closed for lack of PC: badge of honor!', 'profile_image_url': 'https://pbs.twimg.com/profile_images/822102639341174784/t6N6ErwE_normal.jpg', 'id': '4707467188', 'username': 'rightroadnow'}> target=<Node element_id='189646' labels=frozenset({'Hashtag'}) properties={'name': 'DenazifyUkraine'}> g=<Relationship element_id='144734' nodes=(<Node element_id='50215' labels=frozenset({'User'}) properties={'tweet_count': 78517, 'followers': 2642, 'following': 4948, 'verified': False, 'description': 'A powerful new conservative movement is emerging all over the world.Please share, vote & be part of it! My instagram acct closed for lack of PC: badge of honor!', 'profile_image_url': 'https://pbs.twimg.com/profile_images/822102639341174784/t6N6ErwE_normal.jpg', 'id': '4707467188', 'username': 'rightroadnow'}>, <Node element_id='154037' labels=frozenset({'Tweet'}) properties={'date': '2022-04-21T16:42:30.000Z', 'replies': 1, 'id': '1517181997264814081', 'text': '#UkroNazis turned a local museum in #Berdiansk into a #UkroReich #propaganda center. #UkraineNazis #DenazifyUkraine #Z #Elensky #ZelenskyWarCriminal #Ukraine https://t.co/Zocl0IC346', 'retweets': 1, 'lang': 'en', 'likes': 0}>) type='TWEETED' properties={}> b=<Relationship element_id='144891' nodes=(<Node element_id='154037' labels=frozenset({'Tweet'}) properties={'date': '2022-04-21T16:42:30.000Z', 'replies': 1, 'id': '1517181997264814081', 'text': '#UkroNazis turned a local museum in #Berdiansk into a #UkroReich #propaganda center. #UkraineNazis #DenazifyUkraine #Z #Elensky #ZelenskyWarCriminal #Ukraine https://t.co/Zocl0IC346', 'retweets': 1, 'lang': 'en', 'likes': 0}>, <Node element_id='189646' labels=frozenset({'Hashtag'}) properties={'name': 'DenazifyUkraine'}>) type='MENTIONS_HASHTAG' properties={}> tw2=<Node element_id='154037' labels=frozenset({'Tweet'}) properties={'date': '2022-04-21T16:42:30.000Z', 'replies': 1, 'id': '1517181997264814081', 'text': '#UkroNazis turned a local museum in #Berdiansk into a #UkroReich #propaganda center. #UkraineNazis #DenazifyUkraine #Z #Elensky #ZelenskyWarCriminal #Ukraine https://t.co/Zocl0IC346', 'retweets': 1, 'lang': 'en', 'likes': 0}>>,\n",
      " <Record source=<Node element_id='2270' labels=frozenset({'User'}) properties={'tweet_count': 1175, 'followers': 26, 'following': 148, 'verified': False, 'description': 'Ukrainian/Italian,studied in Rome,artist. \\nI believe in equality,in freedom,in critical thinking,in justice,in morality.', 'profile_image_url': 'https://pbs.twimg.com/profile_images/1512804743336407043/B_0UjrTy_normal.jpg', 'id': '1496968583506808835', 'username': 'JeanPau70867694'}> target=<Node element_id='189646' labels=frozenset({'Hashtag'}) properties={'name': 'DenazifyUkraine'}> g=<Relationship element_id='42167' nodes=(<Node element_id='2270' labels=frozenset({'User'}) properties={'tweet_count': 1175, 'followers': 26, 'following': 148, 'verified': False, 'description': 'Ukrainian/Italian,studied in Rome,artist. \\nI believe in equality,in freedom,in critical thinking,in justice,in morality.', 'profile_image_url': 'https://pbs.twimg.com/profile_images/1512804743336407043/B_0UjrTy_normal.jpg', 'id': '1496968583506808835', 'username': 'JeanPau70867694'}>, <Node element_id='89734' labels=frozenset({'Tweet'}) properties={'date': '2022-04-21T17:46:13.000Z', 'replies': 0, 'id': '1517198032621686784', 'text': '#DenazifyUkraine or #denazifyRussia?\\n#Ukraine #UkraineRussianWar #Ukrainian #Russian #Russians https://t.co/r2xv0ZYCd7', 'retweets': 0, 'lang': 'und', 'likes': 0}>) type='TWEETED' properties={}> b=<Relationship element_id='42198' nodes=(<Node element_id='89734' labels=frozenset({'Tweet'}) properties={'date': '2022-04-21T17:46:13.000Z', 'replies': 0, 'id': '1517198032621686784', 'text': '#DenazifyUkraine or #denazifyRussia?\\n#Ukraine #UkraineRussianWar #Ukrainian #Russian #Russians https://t.co/r2xv0ZYCd7', 'retweets': 0, 'lang': 'und', 'likes': 0}>, <Node element_id='189646' labels=frozenset({'Hashtag'}) properties={'name': 'DenazifyUkraine'}>) type='MENTIONS_HASHTAG' properties={}> tw2=<Node element_id='89734' labels=frozenset({'Tweet'}) properties={'date': '2022-04-21T17:46:13.000Z', 'replies': 0, 'id': '1517198032621686784', 'text': '#DenazifyUkraine or #denazifyRussia?\\n#Ukraine #UkraineRussianWar #Ukrainian #Russian #Russians https://t.co/r2xv0ZYCd7', 'retweets': 0, 'lang': 'und', 'likes': 0}>>,\n",
      " <Record source=<Node element_id='3086' labels=frozenset({'User'}) properties={'tweet_count': 62817, 'followers': 432, 'following': 2473, 'verified': False, 'description': 'El futuro se detiene en julio de 1936 en Barcelona... George Orwell, Hommage à la Catalogne', 'profile_image_url': 'https://pbs.twimg.com/profile_images/921409865456766979/UPKuA522_normal.jpg', 'id': '884051815', 'username': 'Mont_Cervin4478'}> target=<Node element_id='189647' labels=frozenset({'Hashtag'}) properties={'name': 'Ukraine'}> g=<Relationship element_id='199969' nodes=(<Node element_id='3086' labels=frozenset({'User'}) properties={'tweet_count': 62817, 'followers': 432, 'following': 2473, 'verified': False, 'description': 'El futuro se detiene en julio de 1936 en Barcelona... George Orwell, Hommage à la Catalogne', 'profile_image_url': 'https://pbs.twimg.com/profile_images/921409865456766979/UPKuA522_normal.jpg', 'id': '884051815', 'username': 'Mont_Cervin4478'}>, <Node element_id='189101' labels=frozenset({'Tweet'}) properties={'date': '2022-04-21T16:09:39.000Z', 'replies': 0, 'id': '1517173728114888706', 'text': '@BFMTV Comme en #Ukraine ! #Macron https://t.co/NjmHxfSNdo', 'retweets': 0, 'lang': 'fr', 'likes': 0}>) type='TWEETED' properties={}> b=<Relationship element_id='199975' nodes=(<Node element_id='189101' labels=frozenset({'Tweet'}) properties={'date': '2022-04-21T16:09:39.000Z', 'replies': 0, 'id': '1517173728114888706', 'text': '@BFMTV Comme en #Ukraine ! #Macron https://t.co/NjmHxfSNdo', 'retweets': 0, 'lang': 'fr', 'likes': 0}>, <Node element_id='189647' labels=frozenset({'Hashtag'}) properties={'name': 'Ukraine'}>) type='MENTIONS_HASHTAG' properties={}> tw2=<Node element_id='189101' labels=frozenset({'Tweet'}) properties={'date': '2022-04-21T16:09:39.000Z', 'replies': 0, 'id': '1517173728114888706', 'text': '@BFMTV Comme en #Ukraine ! #Macron https://t.co/NjmHxfSNdo', 'retweets': 0, 'lang': 'fr', 'likes': 0}>>,\n",
      " <Record source=<Node element_id='73976' labels=frozenset({'User'}) properties={'tweet_count': 2741, 'followers': 585, 'following': 13, 'verified': False, 'description': 'Actress, Stand Up Comedienne, Show Producer. Angel in disguise.', 'profile_image_url': 'https://pbs.twimg.com/profile_images/530598905545625601/JZkEUnxK_normal.jpeg', 'id': '79035575', 'username': 'funlaughangel'}> target=<Node element_id='189647' labels=frozenset({'Hashtag'}) properties={'name': 'Ukraine'}> g=<Relationship element_id='199941' nodes=(<Node element_id='73976' labels=frozenset({'User'}) properties={'tweet_count': 2741, 'followers': 585, 'following': 13, 'verified': False, 'description': 'Actress, Stand Up Comedienne, Show Producer. Angel in disguise.', 'profile_image_url': 'https://pbs.twimg.com/profile_images/530598905545625601/JZkEUnxK_normal.jpeg', 'id': '79035575', 'username': 'funlaughangel'}>, <Node element_id='188863' labels=frozenset({'Tweet'}) properties={'date': '2022-04-21T16:09:28.000Z', 'replies': 0, 'id': '1517173683487354880', 'text': 'Biden to bolster Ukraine with heavy artillery as Donbas campaign intensifies https://t.co/SaFef7csgs via @Yahoo #Potus #Usa #Ukraine #Zelensky #Putin #Russia', 'retweets': 0, 'lang': 'en', 'likes': 0}>) type='TWEETED' properties={}> b=<Relationship element_id='199951' nodes=(<Node element_id='188863' labels=frozenset({'Tweet'}) properties={'date': '2022-04-21T16:09:28.000Z', 'replies': 0, 'id': '1517173683487354880', 'text': 'Biden to bolster Ukraine with heavy artillery as Donbas campaign intensifies https://t.co/SaFef7csgs via @Yahoo #Potus #Usa #Ukraine #Zelensky #Putin #Russia', 'retweets': 0, 'lang': 'en', 'likes': 0}>, <Node element_id='189647' labels=frozenset({'Hashtag'}) properties={'name': 'Ukraine'}>) type='MENTIONS_HASHTAG' properties={}> tw2=<Node element_id='188863' labels=frozenset({'Tweet'}) properties={'date': '2022-04-21T16:09:28.000Z', 'replies': 0, 'id': '1517173683487354880', 'text': 'Biden to bolster Ukraine with heavy artillery as Donbas campaign intensifies https://t.co/SaFef7csgs via @Yahoo #Potus #Usa #Ukraine #Zelensky #Putin #Russia', 'retweets': 0, 'lang': 'en', 'likes': 0}>>]\n"
     ]
    }
   ],
   "source": [
    "# Step 1.2 B - Example of output analysis - SEE in BROWSER\n",
    "try:\n",
    "    query = \"\"\"\n",
    "MATCH (u1:User)-[]->(tw:Tweet)-[]->(t:Hashtag) \n",
    "WITH u1, count(distinct t.name) as freq\n",
    "WHERE freq > 6\n",
    "                \n",
    "MATCH (u2:User)-[g:TWEETED]->(tw2:Tweet)-[b:MENTIONS_HASHTAG]->(t2:Hashtag) \n",
    "WITH collect(distinct id(u1)) as old, u2, t2, g, b, tw2     \n",
    "WHERE any( x IN old WHERE x = id(u2) )\n",
    "RETURN u2 AS source, t2 AS target, g, b, tw2\n",
    "LIMIT 5\n",
    "        \"\"\"\n",
    "    result = execute_read(driver, query)\n",
    "    pprint(result)\n",
    "except Exception as e:\n",
    "    pprint(e)"
   ]
  },
  {
   "cell_type": "code",
   "execution_count": 46,
   "id": "89841060-f00d-4129-a408-111898230f6f",
   "metadata": {
    "ExecuteTime": {
     "end_time": "2024-03-03T14:52:59.728858Z",
     "start_time": "2024-03-03T14:52:59.521273Z"
    }
   },
   "outputs": [
    {
     "name": "stdout",
     "output_type": "stream",
     "text": [
      "[<Record User1='PreventPapers' User2='_Thirunarayan1' similarity=0.008695652173913044>,\n",
      " <Record User1='PreventPapers' User2='ijaydenx' similarity=0.011904761904761904>,\n",
      " <Record User1='VeilleCyber3' User2='aarush_patill' similarity=0.016666666666666666>,\n",
      " <Record User1='VeilleCyber3' User2='chidambara09' similarity=0.025>,\n",
      " <Record User1='epicpitch' User2='Demiurge1165' similarity=0.02631578947368421>,\n",
      " <Record User1='CYNews2' User2='Author_JackKost' similarity=0.02857142857142857>,\n",
      " <Record User1='thealikecom' User2='ADFCFUTUREFOREX' similarity=0.029411764705882353>,\n",
      " <Record User1='wernerkeil' User2='ZAM90s' similarity=0.029411764705882353>,\n",
      " <Record User1='epicpitch' User2='RuanoFaxas' similarity=0.029411764705882353>,\n",
      " <Record User1='chidambara09' User2='Sergey_Hodor' similarity=0.029411764705882353>]\n"
     ]
    }
   ],
   "source": [
    "# Step 2 - Run the algorithm\n",
    "try:\n",
    "    query = \"\"\"\n",
    "        CALL gds.nodeSimilarity.stream('example_3')\n",
    "            YIELD node1, node2, similarity\n",
    "            \n",
    "            WITH gds.util.asNode(node1).username AS User1, \n",
    "            \n",
    "            gds.util.asNode(node2).username AS User2, similarity\n",
    "            \n",
    "            RETURN User1, User2, similarity\n",
    "            \n",
    "            ORDER BY similarity ASCENDING\n",
    "            LIMIT 10\n",
    "        \"\"\"\n",
    "    result = execute_read(driver, query)\n",
    "    \n",
    "    pprint(result)\n",
    "except Exception as e:\n",
    "    pprint(e)\n",
    "# WHERE User1<User2"
   ]
  },
  {
   "cell_type": "markdown",
   "id": "e63b4ac8-e5c0-41f0-98a3-a850c3d1ec22",
   "metadata": {},
   "source": [
    "## Path finding Algorithms\n",
    "\n",
    "Path finding algorithms find the path between two or more nodes or evaluate the availability and quality of paths. As an example you can use the [Dijkstra Shortest Path algorithm](https://neo4j.com/docs/graph-data-science/current/algorithms/dijkstra-source-target/).\n",
    "\n",
    "![path2.png](img/path2.png)\n",
    "\n",
    "### Dijkstra Shortest Path algorithm\n",
    "\n",
    "The Dijkstra Shortest Path algorithm computes the shortest path between nodes. The algorithm supports weighted graphs with positive relationship weights. The Dijkstra Source-Target algorithm computes the shortest path between a source and a target node. To compute all paths from a source node to all reachable nodes, Dijkstra Single-Source can be used.\n",
    "\n",
    "#### Example: When considering that users mention other users in their tweets, where these users can also tweet and mention others... Looking at this chain, what is the minimum amount of users/tweets in between user with usernames `UAWeapons` and `WCKitchen`? "
   ]
  },
  {
   "cell_type": "code",
   "execution_count": 47,
   "id": "830608c5-625c-4485-b77b-75e956c06efc",
   "metadata": {
    "ExecuteTime": {
     "end_time": "2023-02-28T01:09:52.735984Z",
     "start_time": "2023-02-28T01:09:52.722393Z"
    }
   },
   "outputs": [
    {
     "name": "stdout",
     "output_type": "stream",
     "text": [
      "[<Record graphName='example_4'>]\n"
     ]
    }
   ],
   "source": [
    "# Step 0 - Clear graph\n",
    "\n",
    "try:\n",
    "    query = \"\"\"\n",
    "            CALL gds.graph.drop('example_4') YIELD graphName;\n",
    "        \"\"\"\n",
    "\n",
    "    result = execute_read(driver, query)\n",
    "\n",
    "    pprint(result)\n",
    "except Exception as e:\n",
    "    pprint(e)"
   ]
  },
  {
   "cell_type": "code",
   "execution_count": 48,
   "id": "c38e917f-9db6-4e44-9c05-9ae8431c8266",
   "metadata": {
    "ExecuteTime": {
     "end_time": "2024-03-03T14:53:49.078610Z",
     "start_time": "2024-03-03T14:53:48.330103Z"
    }
   },
   "outputs": [
    {
     "name": "stdout",
     "output_type": "stream",
     "text": [
      "[<Record nodeQuery='MATCH (n) RETURN id(n) AS id' relationshipQuery='MATCH (u1)-[]-(u2) RETURN id(u1) AS source, id(u2) AS target' graphName='example_4' nodeCount=194356 relationshipCount=400800 projectMillis=691>]\n"
     ]
    }
   ],
   "source": [
    "# Step 1 - Create an appropriate graph\n",
    "\n",
    "try:\n",
    "    query = \"\"\"\n",
    "        CALL gds.graph.project.cypher(\n",
    "            'example_4',\n",
    "            'MATCH (n) RETURN id(n) AS id',\n",
    "            'MATCH (u1)-[]-(u2) RETURN id(u1) AS source, id(u2) AS target'\n",
    "            )\n",
    "        \"\"\"\n",
    "\n",
    "    result = execute_read(driver, query)\n",
    "\n",
    "    pprint(result)\n",
    "except Exception as e:\n",
    "    pprint(e)"
   ]
  },
  {
   "cell_type": "code",
   "execution_count": 49,
   "id": "5bbbb8a8-5b28-4c58-b08b-055d3e95b0e2",
   "metadata": {
    "ExecuteTime": {
     "end_time": "2024-03-03T14:53:53.326385Z",
     "start_time": "2024-03-03T14:53:53.016348Z"
    }
   },
   "outputs": [
    {
     "name": "stdout",
     "output_type": "stream",
     "text": [
      "[<Record index=0 sourceNodeName='UAWeapons' targetNodeName='WCKitchen' totalCost=6.0 nodeNames=[['User'], ['Tweet'], ['Hashtag'], ['Tweet'], ['Hashtag'], ['Tweet'], ['User']] costs=[0.0, 1.0, 2.0, 3.0, 4.0, 5.0, 6.0] path=[<Node element_id='13' labels=frozenset({'User'}) properties={'tweet_count': 2041, 'followers': 481677, 'following': 11, 'verified': False, 'description': '🇷🇺/🇬🇧 Debunking & Tracking Usage/Capture of Materiel in Ukraine. A @CalibreObscura & @ArmoryBazaar project. For commercial inquiries, please email.', 'profile_image_url': 'https://pbs.twimg.com/profile_images/1497287636448382978/wAo98Sgw_normal.jpg', 'id': '1495480590572961792', 'username': 'UAWeapons'}>, <Node element_id='146616' labels=frozenset({'Tweet'}) properties={'date': '2022-04-21T16:51:00.000Z', 'replies': 0, 'id': '1517184136489816071', 'text': \"@UAWeapons There are about 76 Russian BTG's (Battalion Tactical Groups) in Ukraine with losing 753 tanks, that's about 10% loss. 20%  would make the invasion combat ineffective, and they would have to retreat. They rely way too much on their tanks. #Ukraine #UkraineRussiaWar #sunflower https://t.co/huGbiIRzc3\", 'retweets': 0, 'lang': 'en', 'likes': 0}>, <Node element_id='189656' labels=frozenset({'Hashtag'}) properties={'name': 'UkraineRussiaWar'}>, <Node element_id='107740' labels=frozenset({'Tweet'}) properties={'date': '2022-04-21T17:29:09.000Z', 'replies': 1, 'id': '1517193737130360833', 'text': 'Instead of tables and chairs, this restaurant in eastern Ukraine is now filled with bunk beds to serve families fleeing Russian aggression.\\n#Ukraine #UkraineRussiaWar #UkraineWar #UkraineUnderAttack #Russia #Ukrainian  #Russian #Donbas #Mariupol @Ukraine \\nhttps://t.co/OGHcWmjC5c', 'retweets': 0, 'lang': 'en', 'likes': 0}>, <Node element_id='190137' labels=frozenset({'Hashtag'}) properties={'name': 'UkraineUnderAttack'}>, <Node element_id='181988' labels=frozenset({'Tweet'}) properties={'date': '2022-04-21T16:17:16.000Z', 'replies': 1, 'id': '1517175647671627777', 'text': '@SDNetwork is organizing a virtual event with an amazing line-up of pro-bono speakers to raise funds for Ukraine through @WCKitchen. Join us in solidarity with our fellow service designers and all Ukrainian citizens! https://t.co/QDkc7vF6to #UkraineUnderAttack #StandWithUkraine', 'retweets': 1, 'lang': 'en', 'likes': 0}>, <Node element_id='3' labels=frozenset({'User'}) properties={'tweet_count': 15034, 'followers': 254914, 'following': 693, 'verified': True, 'description': 'Founded by @chefjoseandres in 2010. Wherever there is a fight so that hungry people may eat, we will be there. #ChefsForTheWorld', 'profile_image_url': 'https://pbs.twimg.com/profile_images/1134164643147132934/yBX6dZH4_normal.jpg', 'id': '156653779', 'username': 'WCKitchen'}>]>]\n"
     ]
    }
   ],
   "source": [
    "# Step 2 - Run the algorithm\n",
    "\n",
    "try:\n",
    "    query = \"\"\"\n",
    "        MATCH (source:User {username: 'UAWeapons'}), (target:User {username: 'WCKitchen'})\n",
    "        CALL gds.shortestPath.dijkstra.stream('example_4', {\n",
    "            sourceNode: source,\n",
    "            targetNode: target\n",
    "        })\n",
    "        YIELD index, sourceNode, targetNode, totalCost, nodeIds, costs, path\n",
    "        RETURN\n",
    "            index,\n",
    "            gds.util.asNode(sourceNode).username AS sourceNodeName,\n",
    "            gds.util.asNode(targetNode).username AS targetNodeName,\n",
    "            totalCost,\n",
    "            [nodeId IN nodeIds | Labels(gds.util.asNode(nodeId))] AS nodeNames,\n",
    "            costs,\n",
    "            Nodes(path) as path\n",
    "        ORDER BY index\n",
    "        \"\"\"\n",
    "\n",
    "    result = execute_read(driver, query)\n",
    "\n",
    "    pprint(result)\n",
    "except Exception as e:\n",
    "    pprint(e)"
   ]
  },
  {
   "cell_type": "code",
   "execution_count": 50,
   "id": "6adf9701",
   "metadata": {
    "ExecuteTime": {
     "end_time": "2024-03-03T14:53:59.399092Z",
     "start_time": "2024-03-03T14:53:59.388041Z"
    }
   },
   "outputs": [
    {
     "data": {
      "text/plain": [
       "[['User'], ['Tweet'], ['Hashtag'], ['Tweet'], ['Hashtag'], ['Tweet'], ['User']]"
      ]
     },
     "execution_count": 50,
     "metadata": {},
     "output_type": "execute_result"
    }
   ],
   "source": [
    "# YIELD index, sourceNode, targetNode, totalCost, nodeIds, costs, path\n",
    "\n",
    "result[0][4] # Node Names"
   ]
  },
  {
   "cell_type": "markdown",
   "id": "844eb316-8719-4aa4-96d8-e2ff4dbac92b",
   "metadata": {},
   "source": [
    "---\n",
    "---\n",
    "---\n",
    "## What's next ?! \n",
    "\n",
    "The **first project is almost over!** Doubts and questions on the Moodle Forum, **due date** is the **18th of March!**"
   ]
  },
  {
   "cell_type": "code",
   "execution_count": null,
   "id": "bb1673c8",
   "metadata": {},
   "outputs": [],
   "source": []
  }
 ],
 "metadata": {
  "hide_input": false,
  "kernelspec": {
   "display_name": "Python 3",
   "language": "python",
   "name": "python3"
  },
  "language_info": {
   "codemirror_mode": {
    "name": "ipython",
    "version": 3
   },
   "file_extension": ".py",
   "mimetype": "text/x-python",
   "name": "python",
   "nbconvert_exporter": "python",
   "pygments_lexer": "ipython3",
   "version": "3.11.4"
  },
  "toc": {
   "base_numbering": 1,
   "nav_menu": {},
   "number_sections": true,
   "sideBar": true,
   "skip_h1_title": false,
   "title_cell": "Table of Contents",
   "title_sidebar": "Contents",
   "toc_cell": false,
   "toc_position": {},
   "toc_section_display": true,
   "toc_window_display": false
  },
  "varInspector": {
   "cols": {
    "lenName": 16,
    "lenType": 16,
    "lenVar": 40
   },
   "kernels_config": {
    "python": {
     "delete_cmd_postfix": "",
     "delete_cmd_prefix": "del ",
     "library": "var_list.py",
     "varRefreshCmd": "print(var_dic_list())"
    },
    "r": {
     "delete_cmd_postfix": ") ",
     "delete_cmd_prefix": "rm(",
     "library": "var_list.r",
     "varRefreshCmd": "cat(var_dic_list()) "
    }
   },
   "types_to_exclude": [
    "module",
    "function",
    "builtin_function_or_method",
    "instance",
    "_Feature"
   ],
   "window_display": false
  }
 },
 "nbformat": 4,
 "nbformat_minor": 5
}
