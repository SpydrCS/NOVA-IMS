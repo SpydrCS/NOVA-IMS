{
    "cells": [
        {
            "cell_type": "markdown",
            "id": "de285f7a-ab42-464e-ba6a-71f5ed884be1",
            "metadata": {
                "tags": []
            },
            "source": [
                "# Big Data Modelling and Management - Lab 1"
            ]
        },
        {
            "cell_type": "markdown",
            "id": "8d0e86a2",
            "metadata": {},
            "source": [
                "Prepare for the class:\n",
                "\n",
                "0. download Dataset from Moodle Lab 1 -> upzip the folder + rename to Neo4JData -> delete the original zip!\n",
                "1. run Jupyter \n",
                "2. run Docker\n",
                "3. run the command with paths to your folders in Command Prompt\n",
                "4. open http://localhost:7474/browser/  \n",
                "5. log-in with login: neo4j, password: test\n",
                "6. start exploring the database"
            ]
        },
        {
            "cell_type": "markdown",
            "id": "faac40e5",
            "metadata": {},
            "source": [
                "bit.ly/BDMM_slido //\n",
                "osavchuk@novaims.unl.pt "
            ]
        },
        {
            "cell_type": "markdown",
            "id": "3a17ccda-e8ae-4420-b2fc-228e90a096d8",
            "metadata": {},
            "source": [
                "The default container does not have any data whatsoever, we will have to load a database into our docker image:\n",
                "- Download and unzip the `Neo4JData` file provided in Moodle. \n",
                "- Copy the path of the `Neo4JData` folder of the unziped file, e.g. `C:/Users/.../Neo4JData/data`.\n",
                "- Download and unzip the `Neo4JPlugins` file provided in Moodle.\n",
                "- Copy the path of the `Neo4JPlugins` folder of the unziped file, e.g. `C:/Users/.../Neo4Jplugins`.\n",
                "- Change the code below accordingly. Please use the appropriate path that you got from the previous step. \n",
                "\n",
                "- Open Command Prompt, be sure that docker is running!, edit the paths, and run this command: \\\n",
                "\n",
                "`docker run --user=$(id -u):$(id -g) --name Neo4JLab -p 7474:7474 -p 7687:7687 -d -v \"/home/gui-moreira/Documents/NOVA/BDMM/Installation_Guide/Neo4JPlugins\":/plugins -v \"/home/gui-moreira/Documents/NOVA/BDMM/Installation_Guide/Neo4JData/data\":/data --env NEO4J_AUTH=neo4j/test --env NEO4J_dbms_connector_https_advertised__address=\"localhost:7473\" --env NEO4J_dbms_connector_http_advertised__address=\"localhost:7474\" --env NEO4J_dbms_connector_bolt_advertised__address=\"localhost:7687\" --env NEO4J_dbms_security_procedures_unrestricted=\"gds.*\" --env NEO4J_dbms_security_procedures_allowlist=\"gds.*\" neo4j:4.4.5`\n",
                "\n",
                "- Since Neo4j is trying to recognize a new database folder, this might take a bit (let's say 3 minutes), so don't worry.\n",
                "- You can check that the plugins are correctly installed by running `CALL dbms.procedures() YIELD name RETURN name` in the browser UI, and checking for functions from the \"gds\" module."
            ]
        },
        {
            "cell_type": "markdown",
            "id": "74cc185d-132a-4e5b-8baa-1230eda431d1",
            "metadata": {
                "heading_collapsed": true
            },
            "source": [
                "## Graphs and Graph databases"
            ]
        },
        {
            "cell_type": "markdown",
            "id": "04ee194b-5a11-4a21-a26a-c2ea956900e4",
            "metadata": {
                "hidden": true
            },
            "source": [
                "![image_1](img/basic_graph.png)\n",
                "\n",
                "This is a graph and it will be the focus of the next three classes and the first project.      \n",
                "\n",
                "---\n",
                "---\n",
                "\n",
                "Graph databases are not the most common type of database as they are a completely different way of modeling data which is very intuitive for the data with graph-like structure.\n",
                "In graph databases, complex join queries that would normally be slow in relational models are made to be fast and easy to construct.  \n",
                "\n",
                "Let's take a look at the differences:\n",
                "\n",
                "In the relational model, a many to many relationship between 2 entities is represented with an auxiliary table.  \n",
                "In the example below students are mapped to courses with the enrollments table. To list all of the courses a student is enrolled in, you need to perform a join between two tables. This can be time consuming when using join operations frequently on large tables.\n",
                "\n",
                "![sql_example](img/sql_example.png)  \n",
                "\n",
                "---\n",
                "\n",
                "Meanwhile using a graph database, relationships between entities become easier to visualize and query.  \n",
                "Looking at the example below it is easier to see how many students are in a course, and which students are enrolled in which courses.\n",
                "\n",
                "![graph_example](img/graph_example.png)  \n",
                "\n",
                "---\n",
                "\n",
                "In essence, graph databases focus on entities and the relationships between them rather than on properties of the entities themselves."
            ]
        },
        {
            "cell_type": "markdown",
            "id": "af6f2450-9a72-457a-baf1-28d7ebebc072",
            "metadata": {
                "hidden": true
            },
            "source": [
                "_All images in this section are extracted from the book __NoSQL for Mere Mortals__ from the recommended readings_"
            ]
        },
        {
            "cell_type": "markdown",
            "id": "02f91c5c-7049-4bdc-b911-7c45ad1be42f",
            "metadata": {
                "heading_collapsed": true
            },
            "source": [
                "## Social networks!"
            ]
        },
        {
            "cell_type": "markdown",
            "id": "527e174b-01a4-449d-a19d-4025a30354f3",
            "metadata": {
                "hidden": true
            },
            "source": [
                "Social networks are a perfect fit for graph databases.   \n",
                "Twitter is simple and provides a nice api to extact some data.  \n",
                "Here is an example of a tweet and its correspondent json data:  \n",
                "_(For the ones interested, the tweet is from Max Roser a reseacher at Oxford who develops [OurWorldinData](https://ourworldindata.org/) that does great analysis and visualizations on the world's largest problems)_"
            ]
        },
        {
            "cell_type": "code",
            "execution_count": 1,
            "id": "664b744c-ee29-453c-b9c2-7e92bed61c35",
            "metadata": {
                "ExecuteTime": {
                    "end_time": "2023-02-21T23:08:53.780732Z",
                    "start_time": "2023-02-21T23:08:53.755912Z"
                },
                "hidden": true
            },
            "outputs": [
                {
                    "data": {
                        "text/html": [
                            "<blockquote class=\"twitter-tweet\"><p lang=\"en\" dir=\"ltr\">Are the number of confirmed deaths rising faster \n",
                            "in China, Italy, Spain, South Korea, or the US?<br><br>Our interactive chart shows you the trajectories \n",
                            "since the day each country had the fifth confirmed death.<br><br>Here is the interactive version: \n",
                            "    <a href=\"https://t.co/QiTCXtERj1\">https://t.co/QiTCXtERj1</a> <a href=\"https://t.co/YlguVgdmDH\">pic.twitter.com/YlguVgdmDH</a></p>&mdash; Max Roser (@MaxCRoser) <a href=\"https://twitter.com/MaxCRoser/status/1243252283636416517?ref_src=twsrc%5Etfw\">March 26, 2020</a></blockquote> <script async src=\"https://platform.twitter.com/widgets.js\" charset=\"utf-8\"></script> \n"
                        ],
                        "text/plain": [
                            "<IPython.core.display.HTML object>"
                        ]
                    },
                    "metadata": {},
                    "output_type": "display_data"
                }
            ],
            "source": [
                "%%html\n",
                "<blockquote class=\"twitter-tweet\"><p lang=\"en\" dir=\"ltr\">Are the number of confirmed deaths rising faster \n",
                "in China, Italy, Spain, South Korea, or the US?<br><br>Our interactive chart shows you the trajectories \n",
                "since the day each country had the fifth confirmed death.<br><br>Here is the interactive version: \n",
                "    <a href=\"https://t.co/QiTCXtERj1\">https://t.co/QiTCXtERj1</a> <a href=\"https://t.co/YlguVgdmDH\">pic.twitter.com/YlguVgdmDH</a></p>&mdash; Max Roser (@MaxCRoser) <a href=\"https://twitter.com/MaxCRoser/status/1243252283636416517?ref_src=twsrc%5Etfw\">March 26, 2020</a></blockquote> <script async src=\"https://platform.twitter.com/widgets.js\" charset=\"utf-8\"></script> "
            ]
        },
        {
            "cell_type": "markdown",
            "id": "e2a4b80b-6754-47e1-8bf7-b0efe19bf5fe",
            "metadata": {
                "hidden": true
            },
            "source": [
                "Would be represented in the following json:\n",
                "\n",
                "``` python\n",
                "{\n",
                " 'date': 'Thu Mar 26 19:03:37 +0000 2020',\n",
                " 'favorites': 166,\n",
                " 'hashtags': [],\n",
                " 'retweets': 102,\n",
                " 'text': 'Are the number of confirmed deaths rising faster in China, Italy, Spain, South Korea, or the US?\\n\\nOur interactive chart shows you the trajectories since the day each country had the fifth confirmed death.\\n\\nHere is the interactive version: https://ourworldindata.org/coronavirus#trajectories-since-the-5th-confirmed-death',\n",
                " 'user_id': 610659001505,\n",
                " 'user_mentions': [],\n",
                " 'username': 'MaxCRoser',\n",
                " 'verified': True\n",
                "}\n",
                "```"
            ]
        },
        {
            "cell_type": "markdown",
            "id": "0e89c8e5-ed2c-4559-a89c-16edda967266",
            "metadata": {
                "hidden": true
            },
            "source": [
                "---"
            ]
        },
        {
            "cell_type": "markdown",
            "id": "07dc5f23-0363-4d98-ab69-0371b605c4f6",
            "metadata": {},
            "source": [
                "## Neo4J"
            ]
        },
        {
            "cell_type": "markdown",
            "id": "fecf2278-1817-4b92-9120-022c188cfd3e",
            "metadata": {},
            "source": [
                "![neo4j_example](img/neo4j_logo.png)  "
            ]
        },
        {
            "cell_type": "markdown",
            "id": "e332e583-af2b-426b-bae7-00ecdfd1517f",
            "metadata": {},
            "source": [
                "There are many graph databases implemented with [different philosophies and syntaxes](https://en.wikipedia.org/wiki/Graph_database#List_of_graph_databases). For the present course we decided to go with Neo4j and its query language Cypher as it is the [most widely used](https://db-engines.com/en/ranking/graph+dbms) and, as a consequence, one of the most mature.\n",
                "A special mention to [SPARQL](https://www.ontotext.com/knowledgehub/fundamentals/what-is-sparql/) which is a type of graph database used to query the [EU open data portal](https://data.europa.eu/euodp/en/sparql) or [wikidata (which powers wikipedia)](https://www.wikidata.org/wiki/Wikidata:SPARQL_tutorial) .\n",
                "\n",
                "\n",
                "We will go through each major Cypher operation. For now lets just briefly look at a comparative example with SQL extracted from [wikipedia](https://en.wikipedia.org/wiki/Graph_database#Examples):\n",
                "``` SQL\n",
                "SELECT p2.person_name \n",
                "FROM people p1 \n",
                "JOIN friend ON (p1.person_id = friend.person_id)\n",
                "JOIN people p2 ON (p2.person_id = friend.friend_id)\n",
                "WHERE p1.person_name = 'Jack';\n",
                "```\n",
                "Becomes\n",
                "``` Cypher\n",
                "MATCH (p1:person)-[:FRIEND-WITH]-(p2:person)\n",
                "WHERE p1.name = \"Jack\"\n",
                "RETURN p2.name\n",
                "```\n",
                "\n",
                "Easier and more intuitive to read right?\n"
            ]
        },
        {
            "cell_type": "markdown",
            "id": "daefcdde",
            "metadata": {},
            "source": [
                "## Data Model of graph database"
            ]
        },
        {
            "cell_type": "markdown",
            "id": "2ee2dd44",
            "metadata": {},
            "source": [
                "Data Model\n",
                "\n",
                "The data model describes the labels of nodes, relationships, and properties for the graph. It does not have specific data that will be created in the graph.\n",
                "\n",
                "A graph data model, however is important because it defines the names that will be used for labels, relationship types, and properties when the graph is created and used by the application."
            ]
        },
        {
            "cell_type": "markdown",
            "id": "918f76cc",
            "metadata": {},
            "source": [
                "![sample-data-model.png](img/sample-data-model.png)"
            ]
        },
        {
            "cell_type": "markdown",
            "id": "1ea0e542",
            "metadata": {},
            "source": [
                "Instance Model\n",
                "\n",
                "An important part of the graph data modeling process is to test the model against the use cases. To do this, you need to have a set of sample data that you can use to see if the use cases can be answered with the model.\n",
                "\n",
                "In this instance model, we have created some instances of Person and Movie nodes, as well as their relationships. Having this type of instance model will help us to test our use cases."
            ]
        },
        {
            "cell_type": "markdown",
            "id": "1bdc7593",
            "metadata": {},
            "source": [
                "![sample-data-instance-model.png](img/sample-data-instance-model.png)"
            ]
        },
        {
            "cell_type": "markdown",
            "id": "5386e978",
            "metadata": {},
            "source": [
                "Fanout\n",
                "\n",
                "Fanout is when entities are represented not as a single node, but as a network or linked nodes. These additional nodes could have been represented as properties of the 'main' nodes - Person and Residence, respectively.\n",
                "\n",
                "The main risk about fanout is that it can lead to very dense nodes, or supernodes. These are nodes that have hundreds of thousands of incoming or outgoing relationships Supernodes need to be handled carefully."
            ]
        },
        {
            "cell_type": "markdown",
            "id": "064585be",
            "metadata": {},
            "source": [
                "![neo4j_fanout.png](img/neo4j_fanout.png)"
            ]
        },
        {
            "cell_type": "markdown",
            "id": "314917d4-2473-4b03-8cb4-1047a09277a1",
            "metadata": {},
            "source": [
                "## Cypher Language"
            ]
        },
        {
            "cell_type": "markdown",
            "id": "3d5261ac-c587-4667-9b03-ea6dbe9cceb8",
            "metadata": {},
            "source": [
                "**Node and Relationship**  \n",
                "A node can be represented with:\n",
                "```\n",
                "()                     //anonymous node (no label or variable) can refer to any node in the database\n",
                "(u:User)               //using variable u and node User\n",
                "(:Tweet)               //no variable, label Technology\n",
                "(tag:Hashtag)          //using variable tag and label Hashtag\n",
                "(u:User{name: \"Jonh\"}) //Node User with property name\n",
                "```\n",
                "And relationships as:\n",
                "```\n",
                "()-[:TWEETED]-()                    // Relationship of Label type tweeted between two anonymous nodes\n",
                "(:Tweet)<-[:MENTIONED_AT]-(u:User)  // Unidirectional relationship between User and Tweet \n",
                "()-[h:HAS]-()                       // Relationship with variable h and label Has\n",
                "```\n",
                "This example:\n",
                "\n",
                "![node_relationship.png](img/node_relationship.png)\n",
                "\n",
                "Would be represented as:  \n",
                "```\n",
                "(:User{name: \"user_1\"})-[:TWEETED]->(:TWEET{text: \"This is a tweet\"})\n",
                "```"
            ]
        },
        {
            "cell_type": "markdown",
            "id": "8ce321cb-9454-44c5-8468-e3fb4b438569",
            "metadata": {
                "heading_collapsed": true
            },
            "source": [
                "## Hands on!"
            ]
        },
        {
            "cell_type": "markdown",
            "id": "206a5000-b60b-4b0f-bfda-e0d74d8dc789",
            "metadata": {
                "hidden": true
            },
            "source": [
                "For this class, we will continue to use docker with a neo4j database.\n",
                "\n",
                "There are several libraries to interact with neo4j with python. We will use python's neo4j library as it is the simplest to use. There are plenty more.  \n",
                "Another way to interact with neo4j is to use the web interface available at: http://localhost:7474/browser/ (pretty graphs there)\n",
                "```\n",
                "Connect URL : bolt://http://localhost:7474\n",
                "Username and password same as bellow  \n",
                "```\n",
                "\n",
                "Ok, let's start!"
            ]
        },
        {
            "cell_type": "code",
            "execution_count": 2,
            "id": "6f2456fb-fc50-4584-8904-bd20b72f06a2",
            "metadata": {
                "ExecuteTime": {
                    "end_time": "2023-02-21T23:08:55.910516Z",
                    "start_time": "2023-02-21T23:08:53.783156Z"
                },
                "hidden": true
            },
            "outputs": [
                {
                    "name": "stdout",
                    "output_type": "stream",
                    "text": [
                        "Collecting neo4j\n",
                        "  Using cached neo4j-5.17.0.tar.gz (197 kB)\n",
                        "  Installing build dependencies ... \u001b[?25ldone\n",
                        "\u001b[?25h  Getting requirements to build wheel ... \u001b[?25ldone\n",
                        "\u001b[?25h  Installing backend dependencies ... \u001b[?25ldone\n",
                        "\u001b[?25h  Preparing metadata (pyproject.toml) ... \u001b[?25ldone\n",
                        "\u001b[?25hRequirement already satisfied: pytz in /home/gui-moreira/anaconda3/lib/python3.11/site-packages (from neo4j) (2022.7)\n",
                        "Building wheels for collected packages: neo4j\n",
                        "  Building wheel for neo4j (pyproject.toml) ... \u001b[?25ldone\n",
                        "\u001b[?25h  Created wheel for neo4j: filename=neo4j-5.17.0-py3-none-any.whl size=273834 sha256=ff6395fc255e75ebdd5a37ade6e4feda5bc3ccce7b362a5b823ac37ac8e82016\n",
                        "  Stored in directory: /home/gui-moreira/.cache/pip/wheels/24/cd/ce/048840b064bfabaefdb7fb0d0cf6dd5898e0f7b9b1cb336cca\n",
                        "Successfully built neo4j\n",
                        "Installing collected packages: neo4j\n",
                        "Successfully installed neo4j-5.17.0\n"
                    ]
                }
            ],
            "source": [
                "! pip install neo4j"
            ]
        },
        {
            "cell_type": "code",
            "execution_count": 1,
            "id": "ac804647-b21f-4910-ac35-093a526adf67",
            "metadata": {
                "ExecuteTime": {
                    "end_time": "2023-02-21T23:08:55.926511Z",
                    "start_time": "2023-02-21T23:08:55.912397Z"
                },
                "hidden": true
            },
            "outputs": [],
            "source": [
                "from neo4j import GraphDatabase\n",
                "from pprint import pprint"
            ]
        },
        {
            "cell_type": "markdown",
            "id": "8da60ae1-9b08-4ada-ab13-30915bdcdf0f",
            "metadata": {
                "heading_collapsed": true
            },
            "source": [
                "## Define a Connection to your external Database"
            ]
        },
        {
            "cell_type": "code",
            "execution_count": 2,
            "id": "2c48a2ad-90d0-4f0a-b986-fc28dd1f623a",
            "metadata": {
                "ExecuteTime": {
                    "end_time": "2023-02-21T23:08:55.942051Z",
                    "start_time": "2023-02-21T23:08:55.927916Z"
                },
                "hidden": true
            },
            "outputs": [],
            "source": [
                "NEO4J_URI=\"neo4j://localhost:7687\"\n",
                "NEO4J_USERNAME=\"neo4j\"\n",
                "NEO4J_PASSWORD=\"test\""
            ]
        },
        {
            "cell_type": "code",
            "execution_count": 3,
            "id": "75ab8928-ac32-42b2-8e03-5cff4ae1b16a",
            "metadata": {
                "ExecuteTime": {
                    "end_time": "2023-02-21T23:08:55.958032Z",
                    "start_time": "2023-02-21T23:08:55.944660Z"
                },
                "hidden": true
            },
            "outputs": [],
            "source": [
                "driver = GraphDatabase.driver(NEO4J_URI, auth=(NEO4J_USERNAME, NEO4J_PASSWORD), )"
            ]
        },
        {
            "cell_type": "markdown",
            "id": "1c99fa16-fecc-455c-b1a0-c5f2ec758be8",
            "metadata": {
                "heading_collapsed": true
            },
            "source": [
                "## All The Functions you'll need to run queries in Neo4J"
            ]
        },
        {
            "cell_type": "code",
            "execution_count": 4,
            "id": "f63ba3ed-6a91-4e14-9fff-7a0b60aca9f6",
            "metadata": {
                "ExecuteTime": {
                    "end_time": "2023-02-21T23:08:55.973605Z",
                    "start_time": "2023-02-21T23:08:55.960065Z"
                },
                "hidden": true
            },
            "outputs": [],
            "source": [
                "def execute_query_deprecated(driver, query):\n",
                "    return list(driver.execute_query(query))"
            ]
        },
        {
            "cell_type": "code",
            "execution_count": 5,
            "id": "b01e60a9-4779-409a-ab88-3c7a6687e980",
            "metadata": {
                "ExecuteTime": {
                    "end_time": "2023-02-21T23:08:55.988906Z",
                    "start_time": "2023-02-21T23:08:55.975800Z"
                },
                "hidden": true
            },
            "outputs": [],
            "source": [
                "def execute_write(driver, query):\n",
                "    with driver.session(database=\"neo4j\") as session:\n",
                "        # Write transactions allow the driver to handle retries and transient errors\n",
                "        result = session.execute_write(lambda tx, query: list(tx.run(query)), query)\n",
                "    return result"
            ]
        },
        {
            "cell_type": "code",
            "execution_count": 6,
            "id": "d2949c92-cffa-4a4c-a826-08a83eae8ec5",
            "metadata": {
                "ExecuteTime": {
                    "end_time": "2023-02-21T23:08:56.004093Z",
                    "start_time": "2023-02-21T23:08:55.991898Z"
                },
                "hidden": true
            },
            "outputs": [],
            "source": [
                "def execute_read(driver, query):    \n",
                "    with driver.session(database=\"neo4j\") as session:\n",
                "        result = session.execute_read(lambda tx, query: list(tx.run(query)), query)\n",
                "    return result"
            ]
        },
        {
            "cell_type": "markdown",
            "id": "d16f898d-fc25-44a5-b7eb-a2bce269ce70",
            "metadata": {
                "hidden": true
            },
            "source": [
                "### Let's test out our functions"
            ]
        },
        {
            "cell_type": "markdown",
            "id": "5af60aa9",
            "metadata": {},
            "source": [
                "## Explore database"
            ]
        },
        {
            "cell_type": "code",
            "execution_count": 7,
            "id": "ffe42294-392b-4a94-88a8-8cab8c4b5cd9",
            "metadata": {
                "ExecuteTime": {
                    "end_time": "2023-02-21T23:08:56.066477Z",
                    "start_time": "2023-02-21T23:08:56.007735Z"
                },
                "hidden": true
            },
            "outputs": [
                {
                    "name": "stdout",
                    "output_type": "stream",
                    "text": [
                        "[<Record label='User'>,\n",
                        " <Record label='Location'>,\n",
                        " <Record label='Tweet'>,\n",
                        " <Record label='Hashtag'>]\n"
                    ]
                }
            ],
            "source": [
                "query = \"\"\"\n",
                "       call db.labels();\n",
                "    \"\"\"\n",
                "\n",
                "result = execute_read(driver, query)\n",
                "\n",
                "pprint(result)"
            ]
        },
        {
            "cell_type": "code",
            "execution_count": 9,
            "id": "8cfcb76e-c760-4a40-9124-3b38cc9bd383",
            "metadata": {
                "ExecuteTime": {
                    "end_time": "2023-02-21T23:08:56.082356Z",
                    "start_time": "2023-02-21T23:08:56.068498Z"
                },
                "hidden": true
            },
            "outputs": [
                {
                    "name": "stdout",
                    "output_type": "stream",
                    "text": [
                        "[<Record relationshipType='FROM'>,\n",
                        " <Record relationshipType='TWEETED'>,\n",
                        " <Record relationshipType='MENTIONS'>,\n",
                        " <Record relationshipType='MENTIONS_HASHTAG'>]\n"
                    ]
                }
            ],
            "source": [
                "query = \"\"\"\n",
                "        CALL db.relationshipTypes();\n",
                "    \"\"\"\n",
                "\n",
                "result = execute_read(driver, query)\n",
                "\n",
                "pprint(result)"
            ]
        },
        {
            "cell_type": "markdown",
            "id": "af72b20d-c33b-4a81-9c75-7ae2aa493e43",
            "metadata": {},
            "source": [
                "## CRUD Operations"
            ]
        },
        {
            "cell_type": "markdown",
            "id": "eabfeb28",
            "metadata": {},
            "source": [
                "### CREATE\n",
                "\n",
                "Each node is given a unique id implicitly"
            ]
        },
        {
            "cell_type": "code",
            "execution_count": 10,
            "id": "73d3d77d-e827-41ea-bbe1-25060098ac0d",
            "metadata": {
                "ExecuteTime": {
                    "end_time": "2023-02-21T23:08:56.427364Z",
                    "start_time": "2023-02-21T23:08:56.084147Z"
                }
            },
            "outputs": [
                {
                    "name": "stdout",
                    "output_type": "stream",
                    "text": [
                        "[<Record t=<Node element_id='194356' labels=frozenset({'Tweet'}) properties={'text': 'Yet another tweet'}> u1=<Node element_id='194354' labels=frozenset({'User'}) properties={'username': 'user-309579'}> u2=<Node element_id='194357' labels=frozenset({'User'}) properties={'username': 'user-981712'}>>]\n"
                    ]
                }
            ],
            "source": [
                "import numpy as np\n",
                "\n",
                "user_1 = f\"user-{np.random.randint(1000000)}\"\n",
                "user_2 = f\"user-{np.random.randint(1000000)}\"\n",
                "\n",
                "tweet_content  = \"Yet another tweet\"\n",
                "\n",
                "query = f\"\"\"\n",
                "        CREATE (u1:User{{username: \"{user_1}\"}})-[:TWEETED]->\\\n",
                "              (t:Tweet{{text: \"{tweet_content}\"}})-[:MENTIONS]->\\\n",
                "              (u2:User{{username: \"{user_2}\"}})\n",
                "        RETURN *\n",
                "\"\"\"\n",
                "\n",
                "result = execute_write(driver, query)\n",
                "\n",
                "pprint(result)"
            ]
        },
        {
            "cell_type": "markdown",
            "id": "6d887abe",
            "metadata": {},
            "source": [
                "### SET\n",
                "\n",
                "Create, if it exists update.   \n",
                "Can be compared with an `UPSERT` which exists in some SQL languages like PostgresQL"
            ]
        },
        {
            "cell_type": "code",
            "execution_count": 11,
            "id": "0eb15b02",
            "metadata": {},
            "outputs": [
                {
                    "name": "stdout",
                    "output_type": "stream",
                    "text": [
                        "[<Record u1=<Node element_id='194354' labels=frozenset({'User'}) properties={'name': 'Tiago', 'username': 'user-309579'}>>]\n"
                    ]
                }
            ],
            "source": [
                "user = user_1\n",
                "\n",
                "query = f\"\"\"\n",
                "        MATCH (u1:User{{username: \\\"{user}\\\"}})\n",
                "        SET u1.name=\"Tiago\"\n",
                "        RETURN *\n",
                "    \"\"\"\n",
                "\n",
                "result = execute_write(driver, query)\n",
                "\n",
                "pprint(result)"
            ]
        },
        {
            "cell_type": "markdown",
            "id": "d7861259",
            "metadata": {},
            "source": [
                "### Delete\n",
                "**Please be carefull when executing delete statements on any shared database**"
            ]
        },
        {
            "cell_type": "code",
            "execution_count": 12,
            "id": "ac714e18",
            "metadata": {},
            "outputs": [
                {
                    "name": "stdout",
                    "output_type": "stream",
                    "text": [
                        "[<Record count(u)=2>]\n"
                    ]
                }
            ],
            "source": [
                "query = \"\"\"\n",
                "      MATCH (u:User) \n",
                "      WHERE u.username =~ \"user-.*\"\n",
                "      DETACH DELETE u\n",
                "      RETURN count(u)\n",
                "    \"\"\"\n",
                "\n",
                "result = execute_write(driver, query)\n",
                "\n",
                "pprint(result)"
            ]
        },
        {
            "cell_type": "markdown",
            "id": "100c2ebb-3cde-417e-8216-851fb92b645f",
            "metadata": {},
            "source": [
                "## Query Tools"
            ]
        },
        {
            "cell_type": "markdown",
            "id": "a5285c6d-9f98-4b51-8bf2-48b09fe1a6b0",
            "metadata": {},
            "source": [
                "### Match Operator\n",
                "\n",
                "Equivalent to SQL `select` fetchs data based on query specifications. Lets see some examples:\n",
                "\n",
                "#### Get all nodes in the database, no constraints."
            ]
        },
        {
            "cell_type": "code",
            "execution_count": 13,
            "id": "1817cccf-4c12-496c-8046-4c1bc378dd89",
            "metadata": {
                "ExecuteTime": {
                    "end_time": "2023-02-21T23:08:56.741983Z",
                    "start_time": "2023-02-21T23:08:56.713492Z"
                },
                "scrolled": true
            },
            "outputs": [
                {
                    "name": "stdout",
                    "output_type": "stream",
                    "text": [
                        "[<Record u=<Node element_id='0' labels=frozenset({'User'}) properties={'tweet_count': 5481, 'followers': 111, 'following': 134, 'verified': False, 'description': 'Human, trying to make sense of an inhumane world.', 'profile_image_url': 'https://pbs.twimg.com/profile_images/1512892306642325514/pMDPNGJK_normal.jpg', 'id': '1231752363817480199', 'username': 'IsaacsonSchmid'}>>,\n",
                        " <Record u=<Node element_id='1' labels=frozenset({'User'}) properties={'tweet_count': 27811, 'followers': 81971, 'following': 888, 'verified': True, 'description': 'Chair @TheDemocrats Lawyers Council and @DNC Deputy National Finance Chair. @ObamaWhiteHouse appointee. Trial Lawyer. Music & Hockey Fan. #EndGunViolence', 'profile_image_url': 'https://pbs.twimg.com/profile_images/1482073099285803016/RBcXvS4s_normal.jpg', 'id': '22879254', 'username': 'Weinsteinlaw'}>>,\n",
                        " <Record u=<Node element_id='2' labels=frozenset({'Location'}) properties={'name': 'Parkland, FL '}>>]\n"
                    ]
                }
            ],
            "source": [
                "query = \"\"\"\n",
                "        MATCH (u)\n",
                "        RETURN u\n",
                "        LIMIT 3\n",
                "    \"\"\"\n",
                "\n",
                "result = execute_read(driver, query)\n",
                "\n",
                "pprint(result)"
            ]
        },
        {
            "cell_type": "markdown",
            "id": "5a4698d8-5e58-4c4d-83f9-623ddc17b0e6",
            "metadata": {},
            "source": [
                "#### Get only Locations"
            ]
        },
        {
            "cell_type": "code",
            "execution_count": 14,
            "id": "23c6b02b-4d34-4fa7-9317-739e251dfbc1",
            "metadata": {
                "ExecuteTime": {
                    "end_time": "2023-02-21T23:08:56.773987Z",
                    "start_time": "2023-02-21T23:08:56.742962Z"
                }
            },
            "outputs": [
                {
                    "name": "stdout",
                    "output_type": "stream",
                    "text": [
                        "[<Record l=<Node element_id='2' labels=frozenset({'Location'}) properties={'name': 'Parkland, FL '}>>,\n",
                        " <Record l=<Node element_id='4' labels=frozenset({'Location'}) properties={'name': 'Washington, DC + The World'}>>,\n",
                        " <Record l=<Node element_id='7' labels=frozenset({'Location'}) properties={'name': 'United States'}>>]\n"
                    ]
                }
            ],
            "source": [
                "query = \"\"\"\n",
                "        MATCH (l:Location)\n",
                "        RETURN *\n",
                "        LIMIT 3\n",
                "    \"\"\"\n",
                "\n",
                "result = execute_read(driver, query)\n",
                "\n",
                "pprint(result)"
            ]
        },
        {
            "cell_type": "markdown",
            "id": "0a063746-6899-4c03-82ac-a5bfa0ba87cc",
            "metadata": {},
            "source": [
                "#### Get variable from Node"
            ]
        },
        {
            "cell_type": "code",
            "execution_count": 15,
            "id": "5448eb07-d4ba-4bd1-9011-cca1438495ab",
            "metadata": {
                "ExecuteTime": {
                    "end_time": "2023-02-21T23:08:56.805128Z",
                    "start_time": "2023-02-21T23:08:56.774963Z"
                }
            },
            "outputs": [
                {
                    "name": "stdout",
                    "output_type": "stream",
                    "text": [
                        "[<Record location_name='Parkland, FL '>,\n",
                        " <Record location_name='Washington, DC + The World'>,\n",
                        " <Record location_name='United States'>]\n"
                    ]
                }
            ],
            "source": [
                "query = \"\"\"\n",
                "        MATCH (l:Location)\n",
                "        RETURN l.name as location_name\n",
                "        LIMIT 3\n",
                "    \"\"\"\n",
                "\n",
                "result = execute_read(driver, query)\n",
                "\n",
                "pprint(result)"
            ]
        },
        {
            "cell_type": "markdown",
            "id": "c844e2af-ccbc-4dee-9b34-cfd57a2a3719",
            "metadata": {},
            "source": [
                "#### Conditional match in 2 different ways"
            ]
        },
        {
            "cell_type": "markdown",
            "id": "a3e7fb44-0aa5-4277-8635-86e4a0d9f42b",
            "metadata": {},
            "source": [
                "Passing the property on the node"
            ]
        },
        {
            "cell_type": "code",
            "execution_count": 16,
            "id": "f553a6ba-e02c-49a1-9b69-ea43ebd103f2",
            "metadata": {
                "ExecuteTime": {
                    "end_time": "2023-02-21T23:08:56.852701Z",
                    "start_time": "2023-02-21T23:08:56.806457Z"
                }
            },
            "outputs": [
                {
                    "name": "stdout",
                    "output_type": "stream",
                    "text": [
                        "[<Record location_name='United States'>]\n"
                    ]
                }
            ],
            "source": [
                "query = \"\"\"\n",
                "        MATCH (l:Location{name: 'United States'})\n",
                "        RETURN l.name as location_name\n",
                "        LIMIT 3\n",
                "    \"\"\"\n",
                "\n",
                "result = execute_read(driver, query)\n",
                "\n",
                "pprint(result)"
            ]
        },
        {
            "cell_type": "markdown",
            "id": "08decf12-b7af-4d7f-9aef-e7d17cd0b0b2",
            "metadata": {},
            "source": [
                "The SQL `WHERE`clause"
            ]
        },
        {
            "cell_type": "code",
            "execution_count": 17,
            "id": "1a205f02-35a0-4491-bda2-8df96cccc632",
            "metadata": {
                "ExecuteTime": {
                    "end_time": "2023-02-21T23:08:56.916063Z",
                    "start_time": "2023-02-21T23:08:56.854426Z"
                }
            },
            "outputs": [
                {
                    "name": "stdout",
                    "output_type": "stream",
                    "text": [
                        "[<Record location_name='United States'>]\n"
                    ]
                }
            ],
            "source": [
                "query = \"\"\"\n",
                "        MATCH (l:Location)\n",
                "        where l.name='United States'\n",
                "        RETURN l.name as location_name\n",
                "        LIMIT 3\n",
                "    \"\"\"\n",
                "\n",
                "result = execute_read(driver, query)\n",
                "\n",
                "pprint(result)"
            ]
        },
        {
            "cell_type": "markdown",
            "id": "fae288ae-ead1-4e41-b398-29f90ea0eb9a",
            "metadata": {},
            "source": [
                "The `=~` is the [regex operator](https://neo4j.com/docs/cypher-manual/current/syntax/operators/#syntax-using-a-regular-expression-to-filter-words). Similar to the `like`clause in sQL "
            ]
        },
        {
            "cell_type": "code",
            "execution_count": 18,
            "id": "5d71a042-14bb-458f-92fa-24ac0b12ff5a",
            "metadata": {
                "ExecuteTime": {
                    "end_time": "2023-02-21T23:08:56.947085Z",
                    "start_time": "2023-02-21T23:08:56.918007Z"
                },
                "scrolled": true
            },
            "outputs": [
                {
                    "name": "stdout",
                    "output_type": "stream",
                    "text": [
                        "[<Record location_name='United States'>,\n",
                        " <Record location_name='USA'>,\n",
                        " <Record location_name='Ukraine'>,\n",
                        " <Record location_name='Under the Bridge'>,\n",
                        " <Record location_name='U.S.A.'>,\n",
                        " <Record location_name='United States of America'>,\n",
                        " <Record location_name='USA, USA'>,\n",
                        " <Record location_name='USA 🇺🇸 '>,\n",
                        " <Record location_name='UK'>,\n",
                        " <Record location_name='United Kingdom'>]\n"
                    ]
                }
            ],
            "source": [
                "query = \"\"\"\n",
                "        MATCH (l:Location)\n",
                "        WHERE l.name =~ 'U.*'\n",
                "        RETURN l.name as location_name\n",
                "        LIMIT 10\n",
                "    \"\"\"\n",
                "\n",
                "result = execute_read(driver, query)\n",
                "\n",
                "pprint(result)"
            ]
        },
        {
            "cell_type": "markdown",
            "id": "ddabb2fc-2112-4684-9e6a-5de2d1e899b7",
            "metadata": {},
            "source": [
                "_If anyone is not familiar with concept of [regex](https://en.wikipedia.org/wiki/Regular_expression)_"
            ]
        },
        {
            "cell_type": "markdown",
            "id": "8733173b-6431-43be-9001-bf403e2ea339",
            "metadata": {},
            "source": [
                "#### Maximum number of retweets"
            ]
        },
        {
            "cell_type": "code",
            "execution_count": 19,
            "id": "dcb5c993-86e8-4965-8c0f-c15baf4be232",
            "metadata": {
                "ExecuteTime": {
                    "end_time": "2023-02-21T23:08:56.993567Z",
                    "start_time": "2023-02-21T23:08:56.948979Z"
                }
            },
            "outputs": [
                {
                    "name": "stdout",
                    "output_type": "stream",
                    "text": [
                        "[<Record t=<Node element_id='89682' labels=frozenset({'Tweet'}) properties={'date': '2022-04-21T17:45:10.000Z', 'replies': 0, 'id': '1517197768347074563', 'text': \"RT @afpfr: Le Donbass, que Moscou affirme vouloir libérer, est une région industrielle située dans l'est de l'Ukraine, au cœur d'un conflit…\", 'retweets': 7, 'lang': 'fr', 'likes': 0}>>]\n"
                    ]
                }
            ],
            "source": [
                "query = \"\"\"\n",
                "        MATCH (t:Tweet)\n",
                "        RETURN t\n",
                "        limit 1\n",
                "    \"\"\"\n",
                "\n",
                "result = execute_read(driver, query)\n",
                "\n",
                "pprint(result)"
            ]
        },
        {
            "cell_type": "code",
            "execution_count": 20,
            "id": "f5005f9c-c904-46b6-9b4c-7fe3fc324e4c",
            "metadata": {
                "ExecuteTime": {
                    "end_time": "2023-02-21T23:08:57.072495Z",
                    "start_time": "2023-02-21T23:08:56.994584Z"
                }
            },
            "outputs": [
                {
                    "name": "stdout",
                    "output_type": "stream",
                    "text": [
                        "[<Record t.lang='en' count=85016>,\n",
                        " <Record t.lang='de' count=6235>,\n",
                        " <Record t.lang='fr' count=3196>,\n",
                        " <Record t.lang='und' count=1524>,\n",
                        " <Record t.lang='ja' count=607>]\n"
                    ]
                }
            ],
            "source": [
                "query = \"\"\"\n",
                "        MATCH (t:Tweet)\n",
                "        RETURN t.lang, count(*) as count\n",
                "        order by count desc\n",
                "        limit 5\n",
                "    \"\"\"\n",
                "\n",
                "result = execute_read(driver, query)\n",
                "\n",
                "pprint(result)"
            ]
        },
        {
            "cell_type": "markdown",
            "id": "e67b27af-3e98-4622-badf-1f3e34280ffc",
            "metadata": {},
            "source": [
                "#### Get Relationship\n",
                "\n",
                "All node operations shown above can also be applied to relationships"
            ]
        },
        {
            "cell_type": "code",
            "execution_count": 21,
            "id": "60f814c7",
            "metadata": {},
            "outputs": [
                {
                    "name": "stdout",
                    "output_type": "stream",
                    "text": [
                        "[<Record u=<Node element_id='3295' labels=frozenset({'User'}) properties={'tweet_count': 5358, 'followers': 50, 'following': 172, 'verified': False, 'description': '', 'profile_image_url': 'https://pbs.twimg.com/profile_images/1496523769808105478/Wf5ZFed6_normal.jpg', 'id': '1490202434085531649', 'username': 'GriderPruitt'}> t=<Relationship element_id='42157' nodes=(<Node element_id='3295' labels=frozenset({'User'}) properties={'tweet_count': 5358, 'followers': 50, 'following': 172, 'verified': False, 'description': '', 'profile_image_url': 'https://pbs.twimg.com/profile_images/1496523769808105478/Wf5ZFed6_normal.jpg', 'id': '1490202434085531649', 'username': 'GriderPruitt'}>, <Node element_id='89683' labels=frozenset({'Tweet'}) properties={'date': '2022-04-21T17:45:29.000Z', 'replies': 0, 'id': '1517197844972777474', 'text': 'RT @POTUS: We’ve already welcomed tens of thousands of Ukrainians to the United States. And today, I’m announcing “Uniting for Ukraine,” a…', 'retweets': 869, 'lang': 'en', 'likes': 0}>) type='TWEETED' properties={}> twt=<Node element_id='89683' labels=frozenset({'Tweet'}) properties={'date': '2022-04-21T17:45:29.000Z', 'replies': 0, 'id': '1517197844972777474', 'text': 'RT @POTUS: We’ve already welcomed tens of thousands of Ukrainians to the United States. And today, I’m announcing “Uniting for Ukraine,” a…', 'retweets': 869, 'lang': 'en', 'likes': 0}>>]\n"
                    ]
                }
            ],
            "source": [
                "query = \"\"\"\n",
                "        MATCH (u:User)-[t:TWEETED]->(twt:Tweet)\n",
                "        where twt.lang='en'\n",
                "        RETURN u, t, twt\n",
                "        LIMIT 1\n",
                "    \"\"\"\n",
                "\n",
                "result = execute_read(driver, query)\n",
                "\n",
                "pprint(result)"
            ]
        },
        {
            "cell_type": "code",
            "execution_count": 22,
            "id": "9ae8c10f",
            "metadata": {},
            "outputs": [
                {
                    "name": "stdout",
                    "output_type": "stream",
                    "text": [
                        "[<Record p=<Path start=<Node element_id='0' labels=frozenset({'User'}) properties={'tweet_count': 5481, 'followers': 111, 'following': 134, 'verified': False, 'description': 'Human, trying to make sense of an inhumane world.', 'profile_image_url': 'https://pbs.twimg.com/profile_images/1512892306642325514/pMDPNGJK_normal.jpg', 'id': '1231752363817480199', 'username': 'IsaacsonSchmid'}> end=<Node element_id='167697' labels=frozenset({'Tweet'}) properties={'date': '2022-04-21T16:30:47.000Z', 'replies': 0, 'id': '1517179048862142465', 'text': 'RT @TonyHussein4: Most Americans blame Dictator Vladimir Putin and oil companies for higher gas prices, according to an ABC News/Ipsos poll…', 'retweets': 184, 'lang': 'en', 'likes': 0}> size=1>>]\n"
                    ]
                }
            ],
            "source": [
                "query = \"\"\"\n",
                "        MATCH p=()-[t:TWEETED]->()\n",
                "        RETURN p\n",
                "        LIMIT 1\n",
                "    \"\"\"\n",
                "\n",
                "result = execute_read(driver, query)\n",
                "\n",
                "pprint(result)"
            ]
        },
        {
            "cell_type": "code",
            "execution_count": 23,
            "id": "9082e886",
            "metadata": {},
            "outputs": [
                {
                    "name": "stdout",
                    "output_type": "stream",
                    "text": [
                        "[<Record l=<Node element_id='7' labels=frozenset({'Location'}) properties={'name': 'United States'}> u=<Node element_id='5948' labels=frozenset({'User'}) properties={'tweet_count': 94257, 'followers': 2174, 'following': 4997, 'verified': False, 'description': 'scientist, nature lover, medical professional, environmentalist, art enthusiast and recent political activist. Resist. Basta! #BlueWave', 'profile_image_url': 'https://pbs.twimg.com/profile_images/1324740211880923137/wPnnCFCF_normal.jpg', 'id': '779951186271150080', 'username': 'jk_kause'}> twt=<Node element_id='92753' labels=frozenset({'Tweet'}) properties={'date': '2022-04-21T17:43:59.000Z', 'replies': 0, 'id': '1517197470618595334', 'text': 'RT @NiskanenCenter: THREAD: Biden JUST announced the launch of “Uniting for Ukraine,” a historic effort to welcome Ukrainians into the U.S.…', 'retweets': 28, 'lang': 'en', 'likes': 0}>>]\n"
                    ]
                }
            ],
            "source": [
                "query = \"\"\"\n",
                "        MATCH (l:Location)-[]-(u:User)-[t:TWEETED]->(twt:Tweet)\n",
                "        RETURN l, u, twt\n",
                "        limit 1\n",
                "    \"\"\"\n",
                "\n",
                "result = execute_read(driver, query)\n",
                "\n",
                "pprint(result)"
            ]
        },
        {
            "cell_type": "code",
            "execution_count": 24,
            "id": "9bc76f80",
            "metadata": {},
            "outputs": [
                {
                    "name": "stdout",
                    "output_type": "stream",
                    "text": [
                        "RT @NiskanenCenter: THREAD: Biden JUST announced the launch of “Uniting for Ukraine,” a historic effort to welcome Ukrainians into the U.S.…\n"
                    ]
                }
            ],
            "source": [
                "tweet = result[0]['twt']['text']\n",
                "print(tweet)"
            ]
        },
        {
            "cell_type": "markdown",
            "id": "0c9b7976",
            "metadata": {},
            "source": [
                "#### The use of **f-strings**, compare the differences"
            ]
        },
        {
            "cell_type": "code",
            "execution_count": 25,
            "id": "8fbb672a",
            "metadata": {},
            "outputs": [
                {
                    "name": "stdout",
                    "output_type": "stream",
                    "text": [
                        "[<Record u.username='axpraise1515' twt.date='2022-04-21T17:15:20.000Z' t=<Relationship element_id='92294' nodes=(<Node element_id='12' labels=frozenset() properties={}>, <Node element_id='120782' labels=frozenset() properties={}>) type='TWEETED' properties={}>>,\n",
                        " <Record u.username='axpraise1515' twt.date='2022-04-21T17:29:51.000Z' t=<Relationship element_id='68897' nodes=(<Node element_id='12' labels=frozenset() properties={}>, <Node element_id='106558' labels=frozenset() properties={}>) type='TWEETED' properties={}>>,\n",
                        " <Record u.username='axpraise1515' twt.date='2022-04-21T17:45:50.000Z' t=<Relationship element_id='45830' nodes=(<Node element_id='12' labels=frozenset() properties={}>, <Node element_id='92234' labels=frozenset() properties={}>) type='TWEETED' properties={}>>,\n",
                        " <Record u.username='axpraise1515' twt.date='2022-04-21T17:46:59.000Z' t=<Relationship element_id='45738' nodes=(<Node element_id='12' labels=frozenset() properties={}>, <Node element_id='91224' labels=frozenset() properties={}>) type='TWEETED' properties={}>>,\n",
                        " <Record u.username='axpraise1515' twt.date='2022-04-21T17:45:34.000Z' t=<Relationship element_id='43267' nodes=(<Node element_id='12' labels=frozenset() properties={}>, <Node element_id='90583' labels=frozenset() properties={}>) type='TWEETED' properties={}>>,\n",
                        " <Record u.username='axpraise1515' twt.date='2022-04-21T17:47:14.000Z' t=<Relationship element_id='42216' nodes=(<Node element_id='12' labels=frozenset() properties={}>, <Node element_id='89773' labels=frozenset() properties={}>) type='TWEETED' properties={}>>]\n"
                    ]
                }
            ],
            "source": [
                "username = 'axpraise1515'\n",
                "\n",
                "query = f\"\"\"\n",
                "        MATCH (u:User{{username: '{username}'}})-[t:TWEETED]->(twt:Tweet)\n",
                "        RETURN u.username, twt.date, t\n",
                "    \"\"\"\n",
                "\n",
                "result = execute_read(driver, query)\n",
                "\n",
                "pprint(result)"
            ]
        },
        {
            "cell_type": "markdown",
            "id": "1eab4b40",
            "metadata": {},
            "source": [
                "---\n",
                "---\n",
                "---\n",
                "## What's next ?! \n",
                "\n",
                "The **first project will be released next week!** Doubts and questions on the Moodle Forum.\n",
                "\n"
            ]
        },
        {
            "cell_type": "markdown",
            "id": "13a096e2",
            "metadata": {
                "ExecuteTime": {
                    "end_time": "2023-02-13T22:21:19.208290Z",
                    "start_time": "2023-02-13T22:21:19.175275Z"
                }
            },
            "source": [
                "![feb14.png](img/feb14.png)"
            ]
        },
        {
            "cell_type": "markdown",
            "id": "e222bd17-580f-4935-9c43-dfe16e058b96",
            "metadata": {},
            "source": [
                "\n",
                "\n"
            ]
        }
    ],
    "metadata": {
        "hide_input": false,
        "kernelspec": {
            "display_name": "Python 3",
            "language": "python",
            "name": "python3"
        },
        "language_info": {
            "codemirror_mode": {
                "name": "ipython",
                "version": 3
            },
            "file_extension": ".py",
            "mimetype": "text/x-python",
            "name": "python",
            "nbconvert_exporter": "python",
            "pygments_lexer": "ipython3",
            "version": "3.11.4"
        },
        "toc": {
            "base_numbering": 1,
            "nav_menu": {},
            "number_sections": true,
            "sideBar": true,
            "skip_h1_title": false,
            "title_cell": "Table of Contents",
            "title_sidebar": "Contents",
            "toc_cell": false,
            "toc_position": {},
            "toc_section_display": true,
            "toc_window_display": false
        },
        "toc-autonumbering": false,
        "toc-showcode": false,
        "toc-showmarkdowntxt": false,
        "varInspector": {
            "cols": {
                "lenName": 16,
                "lenType": 16,
                "lenVar": 40
            },
            "kernels_config": {
                "python": {
                    "delete_cmd_postfix": "",
                    "delete_cmd_prefix": "del ",
                    "library": "var_list.py",
                    "varRefreshCmd": "print(var_dic_list())"
                },
                "r": {
                    "delete_cmd_postfix": ") ",
                    "delete_cmd_prefix": "rm(",
                    "library": "var_list.r",
                    "varRefreshCmd": "cat(var_dic_list()) "
                }
            },
            "types_to_exclude": [
                "module",
                "function",
                "builtin_function_or_method",
                "instance",
                "_Feature"
            ],
            "window_display": false
        }
    },
    "nbformat": 4,
    "nbformat_minor": 5
}
